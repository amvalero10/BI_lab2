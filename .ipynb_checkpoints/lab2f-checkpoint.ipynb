{
 "cells": [
  {
   "cell_type": "markdown",
   "id": "e56bcbc3-4c44-4f80-a7dd-547749412c0e",
   "metadata": {},
   "source": [
    "<img src=\"./img/banner.png\">"
   ]
  },
  {
   "cell_type": "markdown",
   "id": "673a9200-2ea9-4d9f-abdc-e069af7fd125",
   "metadata": {},
   "source": [
    "# Laboratorio 2 - BancAlpes\n",
    "\n",
    "1. Carga y exploración de datos.\n",
    "\n",
    "    1.1. Importación de librerias.\n",
    "    \n",
    "    1.2. Carga de datos.\n",
    "    \n",
    "    1.3. Exploración.\n",
    "    \n",
    "2. Limpieza y preparación de los datos.\n",
    "\n",
    "    2.1. Tipo adecuado de cada atributo.\n",
    "    \n",
    "    2.2. Selección de atributos.\n",
    "    \n",
    "3. Clasificadores.\n",
    "\n",
    "    3.1.1. K-means.\n",
    "    \n",
    "    3.1.1. Clustering jerárquico.\n",
    "    \n",
    "    3.1.1."
   ]
  },
  {
   "cell_type": "markdown",
   "id": "17303576-cc14-45b5-9e52-5cc7a77f7230",
   "metadata": {},
   "source": [
    "## 1. Carga y exploración de datos."
   ]
  },
  {
   "cell_type": "markdown",
   "id": "d3afe433-ff67-4019-a359-24f7bc4b02d6",
   "metadata": {},
   "source": [
    "### 1.1. Importación de librerias."
   ]
  },
  {
   "cell_type": "code",
   "execution_count": 2,
   "id": "c1839685-5431-4236-94f1-51a557eae81e",
   "metadata": {},
   "outputs": [],
   "source": [
    "# Librerías para manejo de datos\n",
    "import pandas as pd\n",
    "import numpy as np\n",
    "\n",
    "# preparacion de los datos\n",
    "\n",
    "\n",
    "# modelos\n",
    "#K means\n",
    "from sklearn.preprocessing import StandardScaler\n",
    "from sklearn.cluster import KMeans\n",
    "from sklearn.metrics import silhouette_samples, silhouette_score\n",
    "from sklearn.preprocessing import MinMaxScaler\n",
    "\n",
    "from matplotlib import cm\n",
    "from mpl_toolkits.mplot3d import Axes3D # for 3D plots\n",
    "\n",
    "\n",
    "# Clustering jerarquico\n",
    "import scipy.cluster.hierarchy as sch\n",
    "from scipy.cluster.hierarchy import dendrogram, linkage, fcluster\n",
    "from sklearn.metrics import silhouette_score\n",
    "from sklearn.cluster import AgglomerativeClustering\n",
    "\n",
    "# GMMs\n",
    "from sklearn.mixture import GaussianMixture\n",
    "from sklearn.preprocessing import scale\n",
    "from sklearn.metrics import silhouette_score\n",
    "from sklearn.preprocessing import StandardScaler \n",
    "\n",
    "#Librerías para la visualización\n",
    "import matplotlib.pyplot as plt\n",
    "import seaborn as sns; sns.set()\n",
    "#from plotnine import *\n",
    "\n",
    "%matplotlib inline\n"
   ]
  },
  {
   "cell_type": "markdown",
   "id": "da3e3227-496d-40d2-9e2f-bda1e625adb7",
   "metadata": {},
   "source": [
    "### 1.2. Carga de datos."
   ]
  },
  {
   "cell_type": "code",
   "execution_count": 3,
   "id": "5fd88e21-ad3c-43eb-a122-4bd07109a7c9",
   "metadata": {},
   "outputs": [],
   "source": [
    "# carga de los datos\n",
    "# csv -> dataFrame\n",
    "df_clients = pd.read_csv('./datos/BancAlpes_credit_card_data.csv', sep=';', encoding = 'utf-8' )"
   ]
  },
  {
   "cell_type": "markdown",
   "id": "078319f0-dd63-47eb-8c03-290869e8447d",
   "metadata": {},
   "source": [
    "### 1.3. Exploración."
   ]
  },
  {
   "cell_type": "code",
   "execution_count": 4,
   "id": "7d596b39-0d92-4501-a09d-b857013d68b1",
   "metadata": {},
   "outputs": [
    {
     "data": {
      "text/plain": [
       "(660, 11)"
      ]
     },
     "execution_count": 4,
     "metadata": {},
     "output_type": "execute_result"
    }
   ],
   "source": [
    "#cantidad de datos y numero de variables\n",
    "df_clients.shape"
   ]
  },
  {
   "cell_type": "code",
   "execution_count": 5,
   "id": "53bf554b-5cf4-44f9-b4db-9b69ca153e88",
   "metadata": {},
   "outputs": [
    {
     "data": {
      "text/html": [
       "<div>\n",
       "<style scoped>\n",
       "    .dataframe tbody tr th:only-of-type {\n",
       "        vertical-align: middle;\n",
       "    }\n",
       "\n",
       "    .dataframe tbody tr th {\n",
       "        vertical-align: top;\n",
       "    }\n",
       "\n",
       "    .dataframe thead th {\n",
       "        text-align: right;\n",
       "    }\n",
       "</style>\n",
       "<table border=\"1\" class=\"dataframe\">\n",
       "  <thead>\n",
       "    <tr style=\"text-align: right;\">\n",
       "      <th></th>\n",
       "      <th>Id</th>\n",
       "      <th>Customer</th>\n",
       "      <th>Limit_bal</th>\n",
       "      <th>Sex</th>\n",
       "      <th>Education</th>\n",
       "      <th>Marriage</th>\n",
       "      <th>Age</th>\n",
       "      <th>Total_Credit_Cards</th>\n",
       "      <th>Total_visits_bank</th>\n",
       "      <th>Total_visits_online</th>\n",
       "      <th>Total_calls_made</th>\n",
       "    </tr>\n",
       "  </thead>\n",
       "  <tbody>\n",
       "    <tr>\n",
       "      <th>148</th>\n",
       "      <td>149</td>\n",
       "      <td>77758</td>\n",
       "      <td>80000</td>\n",
       "      <td>Female</td>\n",
       "      <td>2</td>\n",
       "      <td>Married</td>\n",
       "      <td>23</td>\n",
       "      <td>1</td>\n",
       "      <td>2</td>\n",
       "      <td>2</td>\n",
       "      <td>10</td>\n",
       "    </tr>\n",
       "    <tr>\n",
       "      <th>117</th>\n",
       "      <td>118</td>\n",
       "      <td>35256</td>\n",
       "      <td>80000</td>\n",
       "      <td>Male</td>\n",
       "      <td>2</td>\n",
       "      <td>Single</td>\n",
       "      <td>26</td>\n",
       "      <td>4</td>\n",
       "      <td>0</td>\n",
       "      <td>4</td>\n",
       "      <td>7</td>\n",
       "    </tr>\n",
       "    <tr>\n",
       "      <th>77</th>\n",
       "      <td>78</td>\n",
       "      <td>71881</td>\n",
       "      <td>300000</td>\n",
       "      <td>F</td>\n",
       "      <td>1</td>\n",
       "      <td>Married</td>\n",
       "      <td>45</td>\n",
       "      <td>3</td>\n",
       "      <td>1</td>\n",
       "      <td>4</td>\n",
       "      <td>4</td>\n",
       "    </tr>\n",
       "    <tr>\n",
       "      <th>504</th>\n",
       "      <td>505</td>\n",
       "      <td>73000</td>\n",
       "      <td>30000</td>\n",
       "      <td>Male</td>\n",
       "      <td>6</td>\n",
       "      <td>Married</td>\n",
       "      <td>53</td>\n",
       "      <td>6</td>\n",
       "      <td>5</td>\n",
       "      <td>1</td>\n",
       "      <td>0</td>\n",
       "    </tr>\n",
       "    <tr>\n",
       "      <th>575</th>\n",
       "      <td>576</td>\n",
       "      <td>24748</td>\n",
       "      <td>290000</td>\n",
       "      <td>Male</td>\n",
       "      <td>1</td>\n",
       "      <td>Married</td>\n",
       "      <td>53</td>\n",
       "      <td>5</td>\n",
       "      <td>3</td>\n",
       "      <td>0</td>\n",
       "      <td>4</td>\n",
       "    </tr>\n",
       "  </tbody>\n",
       "</table>\n",
       "</div>"
      ],
      "text/plain": [
       "      Id Customer Limit_bal     Sex Education Marriage Age Total_Credit_Cards  \\\n",
       "148  149    77758     80000  Female         2  Married  23                  1   \n",
       "117  118    35256     80000    Male         2   Single  26                  4   \n",
       "77    78    71881    300000       F         1  Married  45                  3   \n",
       "504  505    73000     30000    Male         6  Married  53                  6   \n",
       "575  576    24748    290000    Male         1  Married  53                  5   \n",
       "\n",
       "    Total_visits_bank Total_visits_online Total_calls_made  \n",
       "148                 2                   2               10  \n",
       "117                 0                   4                7  \n",
       "77                  1                   4                4  \n",
       "504                 5                   1                0  \n",
       "575                 3                   0                4  "
      ]
     },
     "execution_count": 5,
     "metadata": {},
     "output_type": "execute_result"
    }
   ],
   "source": [
    "# mostrar 5 filas al azar\n",
    "df_clients.sample(5)"
   ]
  },
  {
   "cell_type": "code",
   "execution_count": 6,
   "id": "32d962f0-a114-46d1-ae1b-d42e139053f4",
   "metadata": {},
   "outputs": [
    {
     "data": {
      "text/plain": [
       "Id                      int64\n",
       "Customer               object\n",
       "Limit_bal              object\n",
       "Sex                    object\n",
       "Education              object\n",
       "Marriage               object\n",
       "Age                    object\n",
       "Total_Credit_Cards     object\n",
       "Total_visits_bank      object\n",
       "Total_visits_online    object\n",
       "Total_calls_made       object\n",
       "dtype: object"
      ]
     },
     "execution_count": 6,
     "metadata": {},
     "output_type": "execute_result"
    }
   ],
   "source": [
    "# ver todos los tipos de variables \n",
    "df_clients.dtypes"
   ]
  },
  {
   "cell_type": "code",
   "execution_count": 7,
   "id": "771df9ba-a5d1-420d-9515-452a2bd84308",
   "metadata": {},
   "outputs": [
    {
     "data": {
      "text/plain": [
       "Id                     0\n",
       "Customer               0\n",
       "Limit_bal              0\n",
       "Sex                    0\n",
       "Education              0\n",
       "Marriage               0\n",
       "Age                    0\n",
       "Total_Credit_Cards     0\n",
       "Total_visits_bank      0\n",
       "Total_visits_online    0\n",
       "Total_calls_made       0\n",
       "dtype: int64"
      ]
     },
     "execution_count": 7,
     "metadata": {},
     "output_type": "execute_result"
    }
   ],
   "source": [
    "#cantidad de datos nulos\n",
    "df_clients.isnull().sum()"
   ]
  },
  {
   "cell_type": "markdown",
   "id": "57d8bcbe-a181-4afc-a01b-b1a7db811ca9",
   "metadata": {},
   "source": [
    "No existen datos nulos."
   ]
  },
  {
   "cell_type": "markdown",
   "id": "2fbd0d95-0496-41dc-a1ed-de4bd77e6afa",
   "metadata": {},
   "source": [
    "## 2. Limpieza y preparación de los datos."
   ]
  },
  {
   "cell_type": "markdown",
   "id": "3a471c82-4839-4fe5-a7ae-15e89519b0ce",
   "metadata": {},
   "source": [
    "### 2.1. Tipo adecuado de cada atributo."
   ]
  },
  {
   "cell_type": "markdown",
   "id": "48bd1769-d6d2-4fb1-bfc9-c4393dc98b77",
   "metadata": {},
   "source": [
    "Primero realizaremos el cambio de tipo de cada columna, acorde con el tipo de datos que maneja."
   ]
  },
  {
   "cell_type": "code",
   "execution_count": 8,
   "id": "1f809eef-2139-427d-bc73-91b8316f8348",
   "metadata": {},
   "outputs": [
    {
     "data": {
      "text/plain": [
       "Id                      int64\n",
       "Customer               object\n",
       "Limit_bal              object\n",
       "Sex                    object\n",
       "Education              object\n",
       "Marriage               object\n",
       "Age                    object\n",
       "Total_Credit_Cards     object\n",
       "Total_visits_bank      object\n",
       "Total_visits_online    object\n",
       "Total_calls_made       object\n",
       "dtype: object"
      ]
     },
     "execution_count": 8,
     "metadata": {},
     "output_type": "execute_result"
    }
   ],
   "source": [
    "# ver todos los tipos de variables \n",
    "df_clients.dtypes"
   ]
  },
  {
   "cell_type": "markdown",
   "id": "79fb6629-b4d7-4afa-953e-cd091d2a3c05",
   "metadata": {},
   "source": [
    "Podemos observar que casi todos los datos los identifica como `object`, entonces procederemos a cambiarlos a su tipo adecuado."
   ]
  },
  {
   "cell_type": "markdown",
   "id": "fea47cd8-fa64-41d3-bd47-1bd889c0acb4",
   "metadata": {},
   "source": [
    "Al intentar cambiar el tipo de cada columna a entero, nos arroja un error: ` ValueError: invalid literal for int() with base 10: '-' `\n",
    "Esto es debido a que existen datos o caracteres que no corresponden en la columna a cambiar, en este caso existe el caracter '-' el cual no nos permite cambiar el tipo de la columna"
   ]
  },
  {
   "cell_type": "code",
   "execution_count": 9,
   "id": "8281879d-9a2b-4fcb-9a68-30273d749251",
   "metadata": {},
   "outputs": [
    {
     "name": "stdout",
     "output_type": "stream",
     "text": [
      "    Id Customer Limit_bal     Sex Education Marriage Age Total_Credit_Cards  \\\n",
      "11  12        -    260000  Female         1        -  51                  3   \n",
      "31  32        -         -       -         -        -   -                  -   \n",
      "\n",
      "   Total_visits_bank Total_visits_online Total_calls_made  \n",
      "11                 -                   2                7  \n",
      "31                 -                   -                -  \n"
     ]
    }
   ],
   "source": [
    "# buscamos la fila con el caracter anomalo '-'\n",
    "raro = df_clients[df_clients['Customer'].str.contains('-')]\n",
    "print(raro)"
   ]
  },
  {
   "cell_type": "markdown",
   "id": "5051fe74-015c-4d62-b641-b37b17513ed0",
   "metadata": {},
   "source": [
    "Como podemos observar las filas 11 y 32  contienen varias columnas con este valor, lo cual no aporta informacion relevante para los modelos de ML y seran eliminadas"
   ]
  },
  {
   "cell_type": "code",
   "execution_count": 10,
   "id": "4e391778-7ffc-4fff-bfdc-cf2581f3a13d",
   "metadata": {},
   "outputs": [],
   "source": [
    "# eliminamos la fila que contiene '-' en la columna Customer\n",
    "df_clients = df_clients.drop(df_clients[df_clients.Customer.str.contains('-')].index)"
   ]
  },
  {
   "cell_type": "markdown",
   "id": "0d154730-c511-4a5a-a51c-164568e63ca3",
   "metadata": {},
   "source": [
    "Ahora convertimos la columna a su correspondiente tipo"
   ]
  },
  {
   "cell_type": "code",
   "execution_count": 11,
   "id": "e86fe9bf-aebe-44a8-8db1-6b3f3a79407e",
   "metadata": {},
   "outputs": [],
   "source": [
    "df_clients['Customer'] = df_clients.Customer.astype(int)\n",
    "df_clients['Limit_bal'] = df_clients.Limit_bal.astype(int)"
   ]
  },
  {
   "cell_type": "markdown",
   "id": "69ae479c-0fe9-4d73-aa0b-7bb6e072a6aa",
   "metadata": {},
   "source": [
    " Al intentar cambiar el tipo de la columna **Education** entero, nos arroja un error: ´ValueError: invalid literal for int() with base 10: 'ABC´´"
   ]
  },
  {
   "cell_type": "code",
   "execution_count": 12,
   "id": "a827fec9-75f3-4c2f-b785-57c0fee55290",
   "metadata": {},
   "outputs": [
    {
     "data": {
      "text/plain": [
       "2      288\n",
       "1      263\n",
       "3       99\n",
       "5        3\n",
       "6        2\n",
       "4        2\n",
       "ABC      1\n",
       "Name: Education, dtype: int64"
      ]
     },
     "execution_count": 12,
     "metadata": {},
     "output_type": "execute_result"
    }
   ],
   "source": [
    "#verificos el tipo de datos manejados por la columna\n",
    "df_clients.Education.value_counts()"
   ]
  },
  {
   "cell_type": "markdown",
   "id": "7fd793fd-07fa-4a0b-8a6a-71d275e6cd20",
   "metadata": {},
   "source": [
    "podemos ver que solo hay una fila con los caracteres 'ABC'"
   ]
  },
  {
   "cell_type": "code",
   "execution_count": 13,
   "id": "6d5d5c7f-5e5e-4f41-a129-61cfcebae778",
   "metadata": {},
   "outputs": [
    {
     "name": "stdout",
     "output_type": "stream",
     "text": [
      "    Id  Customer  Limit_bal    Sex Education Marriage Age Total_Credit_Cards  \\\n",
      "15  16     55196      50000  Fmale       ABC   Others  23                  2   \n",
      "\n",
      "   Total_visits_bank Total_visits_online Total_calls_made  \n",
      "15                 0                   5                7  \n"
     ]
    }
   ],
   "source": [
    "# buscamos la fila con el caracter anomalo 'ABC'\n",
    "raro2 = df_clients[df_clients['Education'].str.contains('ABC')]\n",
    "print(raro2)"
   ]
  },
  {
   "cell_type": "markdown",
   "id": "82c3530e-c918-42ee-8303-1c46dccecd8a",
   "metadata": {},
   "source": [
    "consideramos que al no tener precisión en el tipo de sexo (*Fmale*) y la educación (*ABC*), la fila sera eliminada de los datos."
   ]
  },
  {
   "cell_type": "code",
   "execution_count": 14,
   "id": "42936c19-4545-4ef1-9b8e-38e065bfd316",
   "metadata": {},
   "outputs": [],
   "source": [
    "# eliminamos la fila que contiene 'ABC' en la columna Education\n",
    "df_clients = df_clients.drop(df_clients[df_clients.Education.str.contains('ABC')].index)"
   ]
  },
  {
   "cell_type": "code",
   "execution_count": 15,
   "id": "bf84f181-b9db-4845-b194-7b6750d87fe2",
   "metadata": {},
   "outputs": [],
   "source": [
    "#Ahora convertimos la columna a su correspondiente tipo\n",
    "df_clients['Education'] = df_clients.Education.astype(int)\n",
    "df_clients['Age'] = df_clients.Age.astype(int)"
   ]
  },
  {
   "cell_type": "code",
   "execution_count": 16,
   "id": "0fbe7769-7921-42f3-a46c-bb9ab5eabc75",
   "metadata": {},
   "outputs": [
    {
     "name": "stdout",
     "output_type": "stream",
     "text": [
      "    Id  Customer  Limit_bal   Sex  Education Marriage  Age Total_Credit_Cards  \\\n",
      "17  18     96463     320000  Male          1  Married   49                  -   \n",
      "\n",
      "   Total_visits_bank Total_visits_online Total_calls_made  \n",
      "17                 0                   3                4  \n"
     ]
    }
   ],
   "source": [
    "# buscamos la fila con el caracter anomalo '-'\n",
    "raro3 = df_clients[df_clients['Total_Credit_Cards'].str.contains('-')]\n",
    "print(raro3)"
   ]
  },
  {
   "cell_type": "markdown",
   "id": "0b227a37-140e-463e-9702-448497be3556",
   "metadata": {},
   "source": [
    "Consideramos valiosa la fila y remplazamos el valor de esta por 1, debido a que existe un monto de prestamo en el registro de *Limit_bal*."
   ]
  },
  {
   "cell_type": "code",
   "execution_count": 17,
   "id": "9021732e-0fe6-43d9-8954-02878fde6a43",
   "metadata": {},
   "outputs": [
    {
     "name": "stdout",
     "output_type": "stream",
     "text": [
      "Empty DataFrame\n",
      "Columns: [Id, Customer, Limit_bal, Sex, Education, Marriage, Age, Total_Credit_Cards, Total_visits_bank, Total_visits_online, Total_calls_made]\n",
      "Index: []\n"
     ]
    }
   ],
   "source": [
    "\n",
    "df_clients.Total_Credit_Cards = df_clients.Total_Credit_Cards.replace({'-':1})\n",
    "\n",
    "#comprobamos que no exista el caracter '-' en la columna\n",
    "print( df_clients[df_clients['Total_Credit_Cards']=='-'] )\n",
    "\n",
    "#convertimos la columna en entero\n",
    "df_clients['Total_Credit_Cards'] = df_clients.Total_Credit_Cards.astype(int)\n",
    "\n"
   ]
  },
  {
   "cell_type": "code",
   "execution_count": 18,
   "id": "905f53e6-7785-4691-842e-d8b844bd182a",
   "metadata": {},
   "outputs": [
    {
     "name": "stdout",
     "output_type": "stream",
     "text": [
      "    Id  Customer  Limit_bal   Sex  Education Marriage  Age  \\\n",
      "16  17     62617      20000  Male          1   Single   24   \n",
      "38  39     52142      50000  Male          1   Single   25   \n",
      "\n",
      "    Total_Credit_Cards Total_visits_bank Total_visits_online Total_calls_made  \n",
      "16                   2                 ?                   2                4  \n",
      "38                   4                 ?                   3               10  \n"
     ]
    }
   ],
   "source": [
    "# buscamos la fila con el caracter anomalo '?'\n",
    "raro4 = df_clients[df_clients['Total_visits_bank'].str.contains('\\?')]\n",
    "print(raro4)"
   ]
  },
  {
   "cell_type": "markdown",
   "id": "cb79fb04-3d8e-4302-8b01-ee1a6ec481c1",
   "metadata": {},
   "source": [
    "Consideramos valiosa las filas y remplazamos sus valores por 1, debido a que existe la posibilidad de visitar el banco por lo menos una vez para abrir una cuenta."
   ]
  },
  {
   "cell_type": "code",
   "execution_count": 19,
   "id": "c6f7085a-4deb-4b07-8f4c-0fe9a7cdf567",
   "metadata": {},
   "outputs": [
    {
     "data": {
      "text/plain": [
       "Id                         17\n",
       "Customer                62617\n",
       "Limit_bal               20000\n",
       "Sex                      Male\n",
       "Education                   1\n",
       "Marriage               Single\n",
       "Age                        24\n",
       "Total_Credit_Cards          2\n",
       "Total_visits_bank           1\n",
       "Total_visits_online         2\n",
       "Total_calls_made            4\n",
       "Name: 16, dtype: object"
      ]
     },
     "execution_count": 19,
     "metadata": {},
     "output_type": "execute_result"
    }
   ],
   "source": [
    "df_clients.Total_visits_bank = df_clients.Total_visits_bank.replace({'?':1})\n",
    "\n",
    "#comprobamos el cambio\n",
    "df_clients.loc[16]\n"
   ]
  },
  {
   "cell_type": "code",
   "execution_count": 20,
   "id": "cce75827-7a17-44ae-baae-2e441d217b9c",
   "metadata": {},
   "outputs": [
    {
     "data": {
      "text/plain": [
       "Id                         39\n",
       "Customer                52142\n",
       "Limit_bal               50000\n",
       "Sex                      Male\n",
       "Education                   1\n",
       "Marriage               Single\n",
       "Age                        25\n",
       "Total_Credit_Cards          4\n",
       "Total_visits_bank           1\n",
       "Total_visits_online         3\n",
       "Total_calls_made           10\n",
       "Name: 38, dtype: object"
      ]
     },
     "execution_count": 20,
     "metadata": {},
     "output_type": "execute_result"
    }
   ],
   "source": [
    "#comprobamos el cambio\n",
    "df_clients.loc[38]"
   ]
  },
  {
   "cell_type": "code",
   "execution_count": 21,
   "id": "eccb5a86-15e0-447f-a0d4-d4d48deffaf0",
   "metadata": {},
   "outputs": [],
   "source": [
    "df_clients['Total_visits_bank'] = df_clients.Total_visits_bank.astype(int)\n",
    "df_clients['Total_visits_online'] = df_clients.Total_visits_online.astype(int)"
   ]
  },
  {
   "cell_type": "code",
   "execution_count": 22,
   "id": "f93fe93f-bae7-4cc0-851f-3de874ec08b5",
   "metadata": {},
   "outputs": [
    {
     "name": "stdout",
     "output_type": "stream",
     "text": [
      "   Id  Customer  Limit_bal     Sex  Education Marriage  Age  \\\n",
      "3   4     40496      50000  Female          2  Married   37   \n",
      "\n",
      "   Total_Credit_Cards  Total_visits_bank  Total_visits_online Total_calls_made  \n",
      "3                   5                  1                    1                ?  \n"
     ]
    }
   ],
   "source": [
    "# buscamos la fila con el caracter anomalo '?'\n",
    "raro5 = df_clients[df_clients['Total_calls_made'].str.contains('\\?')]\n",
    "print(raro5)"
   ]
  },
  {
   "cell_type": "markdown",
   "id": "a9717ec7-904f-49ce-85de-5cc9dda46af7",
   "metadata": {},
   "source": [
    "Consideramos valiosa la fila y remplazamos su valor por 1, debido a que solo ha realizado una vista al banco y una online."
   ]
  },
  {
   "cell_type": "code",
   "execution_count": 23,
   "id": "403e3ec4-1a42-4db0-bf95-9a1ad1d0d155",
   "metadata": {},
   "outputs": [
    {
     "data": {
      "text/plain": [
       "Id                           4\n",
       "Customer                 40496\n",
       "Limit_bal                50000\n",
       "Sex                     Female\n",
       "Education                    2\n",
       "Marriage               Married\n",
       "Age                         37\n",
       "Total_Credit_Cards           5\n",
       "Total_visits_bank            1\n",
       "Total_visits_online          1\n",
       "Total_calls_made             1\n",
       "Name: 3, dtype: object"
      ]
     },
     "execution_count": 23,
     "metadata": {},
     "output_type": "execute_result"
    }
   ],
   "source": [
    "df_clients.Total_calls_made = df_clients.Total_calls_made.replace({'?':1})\n",
    "\n",
    "#comprobamos el cambio\n",
    "df_clients.loc[3]"
   ]
  },
  {
   "cell_type": "code",
   "execution_count": 24,
   "id": "146ab9bd-dff2-4c32-8ec7-30bc2348cb26",
   "metadata": {},
   "outputs": [],
   "source": [
    "#cambiamos el tipo de la columna\n",
    "df_clients['Total_calls_made'] = df_clients.Total_calls_made.astype(int)"
   ]
  },
  {
   "cell_type": "code",
   "execution_count": 25,
   "id": "cd347a48-1574-49af-99b4-6d100b1579ea",
   "metadata": {},
   "outputs": [
    {
     "data": {
      "text/plain": [
       "Id                      int64\n",
       "Customer                int32\n",
       "Limit_bal               int32\n",
       "Sex                    object\n",
       "Education               int32\n",
       "Marriage               object\n",
       "Age                     int32\n",
       "Total_Credit_Cards      int32\n",
       "Total_visits_bank       int32\n",
       "Total_visits_online     int32\n",
       "Total_calls_made        int32\n",
       "dtype: object"
      ]
     },
     "execution_count": 25,
     "metadata": {},
     "output_type": "execute_result"
    }
   ],
   "source": [
    "#comprobamos los tipos de las columnas\n",
    "df_clients.dtypes"
   ]
  },
  {
   "cell_type": "markdown",
   "id": "3da4fdf8-18eb-4779-945f-2c8794992096",
   "metadata": {},
   "source": [
    "Ahora convertimos las columnas de *Sex* y *Marriage* en datos numericos para poder integralos al modelo."
   ]
  },
  {
   "cell_type": "code",
   "execution_count": 26,
   "id": "a49da818-3818-47f8-9bbd-70a9fdc67c86",
   "metadata": {},
   "outputs": [
    {
     "data": {
      "text/plain": [
       "Female    371\n",
       "Male      273\n",
       "M           3\n",
       "Mael        3\n",
       "F           3\n",
       "f           2\n",
       "Femael      1\n",
       "9           1\n",
       "Name: Sex, dtype: int64"
      ]
     },
     "execution_count": 26,
     "metadata": {},
     "output_type": "execute_result"
    }
   ],
   "source": [
    "#comprobamos los datos de Sex\n",
    "df_clients.Sex.value_counts()"
   ]
  },
  {
   "cell_type": "code",
   "execution_count": 27,
   "id": "741960f7-960a-429c-b0b4-342fd7bf8cf6",
   "metadata": {},
   "outputs": [
    {
     "name": "stdout",
     "output_type": "stream",
     "text": [
      "    Id  Customer  Limit_bal Sex  Education Marriage  Age  Total_Credit_Cards  \\\n",
      "70  71     21976      80000   9          1   Single   31                   1   \n",
      "\n",
      "    Total_visits_bank  Total_visits_online  Total_calls_made  \n",
      "70                  2                    4                 7  \n"
     ]
    }
   ],
   "source": [
    "# buscamos la fila con el caracter anomalo '9'\n",
    "raro6 = df_clients[df_clients['Sex'].str.contains('9')]\n",
    "print(raro6)"
   ]
  },
  {
   "cell_type": "markdown",
   "id": "e872e3cc-f740-45a4-8d77-5652d035e525",
   "metadata": {},
   "source": [
    "consideramos borrar esta fila, debido a que creemos que impactara en el modelo."
   ]
  },
  {
   "cell_type": "code",
   "execution_count": 28,
   "id": "1c6124ab-0fed-40d1-9cf2-ec5db86a29c4",
   "metadata": {},
   "outputs": [
    {
     "name": "stdout",
     "output_type": "stream",
     "text": [
      "Empty DataFrame\n",
      "Columns: [Id, Customer, Limit_bal, Sex, Education, Marriage, Age, Total_Credit_Cards, Total_visits_bank, Total_visits_online, Total_calls_made]\n",
      "Index: []\n"
     ]
    }
   ],
   "source": [
    "df_clients = df_clients.drop([70], axis=0)\n",
    "\n",
    "#comprobamos si se elimino.\n",
    "raro6 = df_clients[df_clients['Sex'].str.contains('9')]\n",
    "print(raro6)"
   ]
  },
  {
   "cell_type": "code",
   "execution_count": 29,
   "id": "3434a2be-a2ac-461c-b76c-e3f0c4c570fe",
   "metadata": {},
   "outputs": [],
   "source": [
    "#reemplazamos los M => Male\n",
    "df_clients.Sex = df_clients.Sex.replace({'M ':'Male'})\n",
    "\n",
    "#reemplazamos los F => Female\n",
    "df_clients.Sex = df_clients.Sex.replace({'F':'Female'})\n",
    "\n",
    "#reemplazamos los Mael => Male\n",
    "df_clients.Sex = df_clients.Sex.replace({'Mael':'Male'})\n",
    "\n",
    "#reemplazamos los f => Female\n",
    "df_clients.Sex = df_clients.Sex.replace({'f':'Female'})\n",
    "\n",
    "#reemplazamos los Femael => Female\n",
    "df_clients.Sex = df_clients.Sex.replace({'Femael':'Female'})"
   ]
  },
  {
   "cell_type": "code",
   "execution_count": 30,
   "id": "ce0edfa0-ec0d-4201-82ce-6a64307a08fe",
   "metadata": {},
   "outputs": [
    {
     "data": {
      "text/plain": [
       "Female    377\n",
       "Male      279\n",
       "Name: Sex, dtype: int64"
      ]
     },
     "execution_count": 30,
     "metadata": {},
     "output_type": "execute_result"
    }
   ],
   "source": [
    "#comprobamos los datos de Sex\n",
    "df_clients.Sex.value_counts()"
   ]
  },
  {
   "cell_type": "code",
   "execution_count": 31,
   "id": "78e24266-a5c4-492a-8ffc-73737ba63640",
   "metadata": {},
   "outputs": [
    {
     "data": {
      "text/plain": [
       "0    377\n",
       "1    279\n",
       "Name: Sex, dtype: int64"
      ]
     },
     "execution_count": 31,
     "metadata": {},
     "output_type": "execute_result"
    }
   ],
   "source": [
    "#mapping para la columna de sex\n",
    "sexMaping = {'Female':0,'Male':1}\n",
    "df_clients['Sex'] = df_clients['Sex'].map(sexMaping)\n",
    "\n",
    "#comprobamos el map\n",
    "df_clients.Sex.value_counts()"
   ]
  },
  {
   "cell_type": "code",
   "execution_count": 32,
   "id": "c5c3928e-7122-40b1-88b2-1efdcdea2543",
   "metadata": {},
   "outputs": [
    {
     "data": {
      "text/plain": [
       "Single     378\n",
       "Married    260\n",
       "Others       8\n",
       "1            5\n",
       "2            3\n",
       "?            1\n",
       "0            1\n",
       "Name: Marriage, dtype: int64"
      ]
     },
     "execution_count": 32,
     "metadata": {},
     "output_type": "execute_result"
    }
   ],
   "source": [
    "df_clients.Marriage.value_counts()"
   ]
  },
  {
   "cell_type": "code",
   "execution_count": 33,
   "id": "e71a668a-cf6b-476c-866e-9ef01b47ba46",
   "metadata": {},
   "outputs": [],
   "source": [
    "#reemplazamos los 1 => Others\n",
    "df_clients.Marriage = df_clients.Marriage.replace({ '1':'Others'})\n",
    "\n",
    "#reemplazamos los 2 => Others\n",
    "df_clients.Marriage = df_clients.Marriage.replace({ '2':'Others'})\n",
    "\n",
    "#reemplazamos los ? => Others\n",
    "df_clients.Marriage = df_clients.Marriage.replace({ '?':'Others'})\n",
    "\n",
    "#reemplazamos los ? => Others\n",
    "df_clients.Marriage = df_clients.Marriage.replace({ '0' :'Others'})"
   ]
  },
  {
   "cell_type": "code",
   "execution_count": 34,
   "id": "ea6550eb-0186-45e4-b812-26e19806e77c",
   "metadata": {},
   "outputs": [
    {
     "data": {
      "text/plain": [
       "Single     378\n",
       "Married    260\n",
       "Others      18\n",
       "Name: Marriage, dtype: int64"
      ]
     },
     "execution_count": 34,
     "metadata": {},
     "output_type": "execute_result"
    }
   ],
   "source": [
    "#comprobamos los cambios\n",
    "df_clients.Marriage.value_counts()"
   ]
  },
  {
   "cell_type": "code",
   "execution_count": 35,
   "id": "dff7b49d-14e6-469b-ba72-27ccb5cc398d",
   "metadata": {},
   "outputs": [
    {
     "data": {
      "text/plain": [
       "0    378\n",
       "1    260\n",
       "2     18\n",
       "Name: Marriage, dtype: int64"
      ]
     },
     "execution_count": 35,
     "metadata": {},
     "output_type": "execute_result"
    }
   ],
   "source": [
    "#mapping para la columna de sex\n",
    "MarriageMaping = {'Single':0,'Married':1,'Others':2}\n",
    "df_clients['Marriage'] = df_clients['Marriage'].map(MarriageMaping)\n",
    "\n",
    "#comprobamos el map\n",
    "df_clients.Marriage.value_counts()"
   ]
  },
  {
   "cell_type": "code",
   "execution_count": 36,
   "id": "63080b04-aac1-4b1e-b3ad-3f532128fabd",
   "metadata": {},
   "outputs": [
    {
     "data": {
      "text/html": [
       "<div>\n",
       "<style scoped>\n",
       "    .dataframe tbody tr th:only-of-type {\n",
       "        vertical-align: middle;\n",
       "    }\n",
       "\n",
       "    .dataframe tbody tr th {\n",
       "        vertical-align: top;\n",
       "    }\n",
       "\n",
       "    .dataframe thead th {\n",
       "        text-align: right;\n",
       "    }\n",
       "</style>\n",
       "<table border=\"1\" class=\"dataframe\">\n",
       "  <thead>\n",
       "    <tr style=\"text-align: right;\">\n",
       "      <th></th>\n",
       "      <th>Id</th>\n",
       "      <th>Customer</th>\n",
       "      <th>Limit_bal</th>\n",
       "      <th>Sex</th>\n",
       "      <th>Education</th>\n",
       "      <th>Marriage</th>\n",
       "      <th>Age</th>\n",
       "      <th>Total_Credit_Cards</th>\n",
       "      <th>Total_visits_bank</th>\n",
       "      <th>Total_visits_online</th>\n",
       "      <th>Total_calls_made</th>\n",
       "    </tr>\n",
       "  </thead>\n",
       "  <tbody>\n",
       "    <tr>\n",
       "      <th>count</th>\n",
       "      <td>656.000000</td>\n",
       "      <td>656.000000</td>\n",
       "      <td>656.000000</td>\n",
       "      <td>656.000000</td>\n",
       "      <td>656.000000</td>\n",
       "      <td>656.000000</td>\n",
       "      <td>656.000000</td>\n",
       "      <td>6.560000e+02</td>\n",
       "      <td>656.000000</td>\n",
       "      <td>656.000000</td>\n",
       "      <td>656.000000</td>\n",
       "    </tr>\n",
       "    <tr>\n",
       "      <th>mean</th>\n",
       "      <td>332.315549</td>\n",
       "      <td>55230.647866</td>\n",
       "      <td>170182.926829</td>\n",
       "      <td>0.425305</td>\n",
       "      <td>1.783537</td>\n",
       "      <td>0.451220</td>\n",
       "      <td>95.493902</td>\n",
       "      <td>1.882010e+05</td>\n",
       "      <td>2.413110</td>\n",
       "      <td>2.597561</td>\n",
       "      <td>3.559451</td>\n",
       "    </tr>\n",
       "    <tr>\n",
       "      <th>std</th>\n",
       "      <td>189.813037</td>\n",
       "      <td>25657.650223</td>\n",
       "      <td>129855.927499</td>\n",
       "      <td>0.494766</td>\n",
       "      <td>0.778786</td>\n",
       "      <td>0.550418</td>\n",
       "      <td>1435.931970</td>\n",
       "      <td>4.820178e+06</td>\n",
       "      <td>1.630364</td>\n",
       "      <td>2.941090</td>\n",
       "      <td>2.864812</td>\n",
       "    </tr>\n",
       "    <tr>\n",
       "      <th>min</th>\n",
       "      <td>1.000000</td>\n",
       "      <td>11265.000000</td>\n",
       "      <td>10000.000000</td>\n",
       "      <td>0.000000</td>\n",
       "      <td>1.000000</td>\n",
       "      <td>0.000000</td>\n",
       "      <td>21.000000</td>\n",
       "      <td>1.000000e+00</td>\n",
       "      <td>0.000000</td>\n",
       "      <td>0.000000</td>\n",
       "      <td>0.000000</td>\n",
       "    </tr>\n",
       "    <tr>\n",
       "      <th>25%</th>\n",
       "      <td>168.750000</td>\n",
       "      <td>33952.500000</td>\n",
       "      <td>50000.000000</td>\n",
       "      <td>0.000000</td>\n",
       "      <td>1.000000</td>\n",
       "      <td>0.000000</td>\n",
       "      <td>28.000000</td>\n",
       "      <td>3.000000e+00</td>\n",
       "      <td>1.000000</td>\n",
       "      <td>1.000000</td>\n",
       "      <td>1.000000</td>\n",
       "    </tr>\n",
       "    <tr>\n",
       "      <th>50%</th>\n",
       "      <td>332.500000</td>\n",
       "      <td>53907.000000</td>\n",
       "      <td>140000.000000</td>\n",
       "      <td>0.000000</td>\n",
       "      <td>2.000000</td>\n",
       "      <td>0.000000</td>\n",
       "      <td>33.500000</td>\n",
       "      <td>5.000000e+00</td>\n",
       "      <td>2.000000</td>\n",
       "      <td>2.000000</td>\n",
       "      <td>3.000000</td>\n",
       "    </tr>\n",
       "    <tr>\n",
       "      <th>75%</th>\n",
       "      <td>496.250000</td>\n",
       "      <td>77439.000000</td>\n",
       "      <td>240000.000000</td>\n",
       "      <td>1.000000</td>\n",
       "      <td>2.000000</td>\n",
       "      <td>1.000000</td>\n",
       "      <td>41.000000</td>\n",
       "      <td>6.000000e+00</td>\n",
       "      <td>4.000000</td>\n",
       "      <td>4.000000</td>\n",
       "      <td>5.000000</td>\n",
       "    </tr>\n",
       "    <tr>\n",
       "      <th>max</th>\n",
       "      <td>660.000000</td>\n",
       "      <td>99843.000000</td>\n",
       "      <td>630000.000000</td>\n",
       "      <td>1.000000</td>\n",
       "      <td>6.000000</td>\n",
       "      <td>2.000000</td>\n",
       "      <td>36745.000000</td>\n",
       "      <td>1.234568e+08</td>\n",
       "      <td>5.000000</td>\n",
       "      <td>15.000000</td>\n",
       "      <td>10.000000</td>\n",
       "    </tr>\n",
       "  </tbody>\n",
       "</table>\n",
       "</div>"
      ],
      "text/plain": [
       "               Id      Customer      Limit_bal         Sex   Education  \\\n",
       "count  656.000000    656.000000     656.000000  656.000000  656.000000   \n",
       "mean   332.315549  55230.647866  170182.926829    0.425305    1.783537   \n",
       "std    189.813037  25657.650223  129855.927499    0.494766    0.778786   \n",
       "min      1.000000  11265.000000   10000.000000    0.000000    1.000000   \n",
       "25%    168.750000  33952.500000   50000.000000    0.000000    1.000000   \n",
       "50%    332.500000  53907.000000  140000.000000    0.000000    2.000000   \n",
       "75%    496.250000  77439.000000  240000.000000    1.000000    2.000000   \n",
       "max    660.000000  99843.000000  630000.000000    1.000000    6.000000   \n",
       "\n",
       "         Marriage           Age  Total_Credit_Cards  Total_visits_bank  \\\n",
       "count  656.000000    656.000000        6.560000e+02         656.000000   \n",
       "mean     0.451220     95.493902        1.882010e+05           2.413110   \n",
       "std      0.550418   1435.931970        4.820178e+06           1.630364   \n",
       "min      0.000000     21.000000        1.000000e+00           0.000000   \n",
       "25%      0.000000     28.000000        3.000000e+00           1.000000   \n",
       "50%      0.000000     33.500000        5.000000e+00           2.000000   \n",
       "75%      1.000000     41.000000        6.000000e+00           4.000000   \n",
       "max      2.000000  36745.000000        1.234568e+08           5.000000   \n",
       "\n",
       "       Total_visits_online  Total_calls_made  \n",
       "count           656.000000        656.000000  \n",
       "mean              2.597561          3.559451  \n",
       "std               2.941090          2.864812  \n",
       "min               0.000000          0.000000  \n",
       "25%               1.000000          1.000000  \n",
       "50%               2.000000          3.000000  \n",
       "75%               4.000000          5.000000  \n",
       "max              15.000000         10.000000  "
      ]
     },
     "execution_count": 36,
     "metadata": {},
     "output_type": "execute_result"
    }
   ],
   "source": [
    "#Finalmente las estadisiticas descriptivas.\n",
    "df_clients.describe()"
   ]
  },
  {
   "cell_type": "markdown",
   "id": "d059b999-f1b2-469f-a48c-0e0681cbd6be",
   "metadata": {},
   "source": [
    "### 2.2. Selección de atributos."
   ]
  },
  {
   "cell_type": "markdown",
   "id": "40ce4fbf-acfa-4630-b1af-c0428117fce6",
   "metadata": {},
   "source": [
    "En este punto deseamos conocer cuales son las columnas más importantes para nuestro modelo, aquellas que aporten valor y sirvan para crear modelos más precisos y exactos. Para este punto necesitamos conocimiento sobre cada atributo y como este podria impactar en la prediccion del modelo."
   ]
  },
  {
   "cell_type": "markdown",
   "id": "c3b29087-a889-4115-a4e1-22ff5e259bfe",
   "metadata": {},
   "source": [
    "Eliminamos las columnas de **Id** y de **Customer** al no aportar nada para el rendimiento del modelo"
   ]
  },
  {
   "cell_type": "code",
   "execution_count": 37,
   "id": "a244af2e-479e-4539-8bf8-c9819fa914ce",
   "metadata": {},
   "outputs": [],
   "source": [
    "df_clients_A = df_clients\n",
    "del df_clients_A['Id']\n",
    "del df_clients_A['Customer']"
   ]
  },
  {
   "cell_type": "code",
   "execution_count": 38,
   "id": "67c6f409-4fa1-45e0-9ee2-90bfe2357492",
   "metadata": {},
   "outputs": [
    {
     "data": {
      "text/plain": [
       "Limit_bal              int32\n",
       "Sex                    int64\n",
       "Education              int32\n",
       "Marriage               int64\n",
       "Age                    int32\n",
       "Total_Credit_Cards     int32\n",
       "Total_visits_bank      int32\n",
       "Total_visits_online    int32\n",
       "Total_calls_made       int32\n",
       "dtype: object"
      ]
     },
     "execution_count": 38,
     "metadata": {},
     "output_type": "execute_result"
    }
   ],
   "source": [
    "#comprobamos la eliminacion\n",
    "df_clients_A.dtypes"
   ]
  },
  {
   "cell_type": "code",
   "execution_count": 39,
   "id": "2c6e86c2-30ac-4b00-a95b-b009969bd24e",
   "metadata": {},
   "outputs": [
    {
     "data": {
      "text/html": [
       "<div>\n",
       "<style scoped>\n",
       "    .dataframe tbody tr th:only-of-type {\n",
       "        vertical-align: middle;\n",
       "    }\n",
       "\n",
       "    .dataframe tbody tr th {\n",
       "        vertical-align: top;\n",
       "    }\n",
       "\n",
       "    .dataframe thead th {\n",
       "        text-align: right;\n",
       "    }\n",
       "</style>\n",
       "<table border=\"1\" class=\"dataframe\">\n",
       "  <thead>\n",
       "    <tr style=\"text-align: right;\">\n",
       "      <th></th>\n",
       "      <th>Limit_bal</th>\n",
       "      <th>Sex</th>\n",
       "      <th>Education</th>\n",
       "      <th>Marriage</th>\n",
       "      <th>Age</th>\n",
       "      <th>Total_Credit_Cards</th>\n",
       "      <th>Total_visits_bank</th>\n",
       "      <th>Total_visits_online</th>\n",
       "      <th>Total_calls_made</th>\n",
       "    </tr>\n",
       "  </thead>\n",
       "  <tbody>\n",
       "    <tr>\n",
       "      <th>count</th>\n",
       "      <td>656.000000</td>\n",
       "      <td>656.000000</td>\n",
       "      <td>656.000000</td>\n",
       "      <td>656.000000</td>\n",
       "      <td>656.000000</td>\n",
       "      <td>6.560000e+02</td>\n",
       "      <td>656.000000</td>\n",
       "      <td>656.000000</td>\n",
       "      <td>656.000000</td>\n",
       "    </tr>\n",
       "    <tr>\n",
       "      <th>mean</th>\n",
       "      <td>170182.926829</td>\n",
       "      <td>0.425305</td>\n",
       "      <td>1.783537</td>\n",
       "      <td>0.451220</td>\n",
       "      <td>95.493902</td>\n",
       "      <td>1.882010e+05</td>\n",
       "      <td>2.413110</td>\n",
       "      <td>2.597561</td>\n",
       "      <td>3.559451</td>\n",
       "    </tr>\n",
       "    <tr>\n",
       "      <th>std</th>\n",
       "      <td>129855.927499</td>\n",
       "      <td>0.494766</td>\n",
       "      <td>0.778786</td>\n",
       "      <td>0.550418</td>\n",
       "      <td>1435.931970</td>\n",
       "      <td>4.820178e+06</td>\n",
       "      <td>1.630364</td>\n",
       "      <td>2.941090</td>\n",
       "      <td>2.864812</td>\n",
       "    </tr>\n",
       "    <tr>\n",
       "      <th>min</th>\n",
       "      <td>10000.000000</td>\n",
       "      <td>0.000000</td>\n",
       "      <td>1.000000</td>\n",
       "      <td>0.000000</td>\n",
       "      <td>21.000000</td>\n",
       "      <td>1.000000e+00</td>\n",
       "      <td>0.000000</td>\n",
       "      <td>0.000000</td>\n",
       "      <td>0.000000</td>\n",
       "    </tr>\n",
       "    <tr>\n",
       "      <th>25%</th>\n",
       "      <td>50000.000000</td>\n",
       "      <td>0.000000</td>\n",
       "      <td>1.000000</td>\n",
       "      <td>0.000000</td>\n",
       "      <td>28.000000</td>\n",
       "      <td>3.000000e+00</td>\n",
       "      <td>1.000000</td>\n",
       "      <td>1.000000</td>\n",
       "      <td>1.000000</td>\n",
       "    </tr>\n",
       "    <tr>\n",
       "      <th>50%</th>\n",
       "      <td>140000.000000</td>\n",
       "      <td>0.000000</td>\n",
       "      <td>2.000000</td>\n",
       "      <td>0.000000</td>\n",
       "      <td>33.500000</td>\n",
       "      <td>5.000000e+00</td>\n",
       "      <td>2.000000</td>\n",
       "      <td>2.000000</td>\n",
       "      <td>3.000000</td>\n",
       "    </tr>\n",
       "    <tr>\n",
       "      <th>75%</th>\n",
       "      <td>240000.000000</td>\n",
       "      <td>1.000000</td>\n",
       "      <td>2.000000</td>\n",
       "      <td>1.000000</td>\n",
       "      <td>41.000000</td>\n",
       "      <td>6.000000e+00</td>\n",
       "      <td>4.000000</td>\n",
       "      <td>4.000000</td>\n",
       "      <td>5.000000</td>\n",
       "    </tr>\n",
       "    <tr>\n",
       "      <th>max</th>\n",
       "      <td>630000.000000</td>\n",
       "      <td>1.000000</td>\n",
       "      <td>6.000000</td>\n",
       "      <td>2.000000</td>\n",
       "      <td>36745.000000</td>\n",
       "      <td>1.234568e+08</td>\n",
       "      <td>5.000000</td>\n",
       "      <td>15.000000</td>\n",
       "      <td>10.000000</td>\n",
       "    </tr>\n",
       "  </tbody>\n",
       "</table>\n",
       "</div>"
      ],
      "text/plain": [
       "           Limit_bal         Sex   Education    Marriage           Age  \\\n",
       "count     656.000000  656.000000  656.000000  656.000000    656.000000   \n",
       "mean   170182.926829    0.425305    1.783537    0.451220     95.493902   \n",
       "std    129855.927499    0.494766    0.778786    0.550418   1435.931970   \n",
       "min     10000.000000    0.000000    1.000000    0.000000     21.000000   \n",
       "25%     50000.000000    0.000000    1.000000    0.000000     28.000000   \n",
       "50%    140000.000000    0.000000    2.000000    0.000000     33.500000   \n",
       "75%    240000.000000    1.000000    2.000000    1.000000     41.000000   \n",
       "max    630000.000000    1.000000    6.000000    2.000000  36745.000000   \n",
       "\n",
       "       Total_Credit_Cards  Total_visits_bank  Total_visits_online  \\\n",
       "count        6.560000e+02         656.000000           656.000000   \n",
       "mean         1.882010e+05           2.413110             2.597561   \n",
       "std          4.820178e+06           1.630364             2.941090   \n",
       "min          1.000000e+00           0.000000             0.000000   \n",
       "25%          3.000000e+00           1.000000             1.000000   \n",
       "50%          5.000000e+00           2.000000             2.000000   \n",
       "75%          6.000000e+00           4.000000             4.000000   \n",
       "max          1.234568e+08           5.000000            15.000000   \n",
       "\n",
       "       Total_calls_made  \n",
       "count        656.000000  \n",
       "mean           3.559451  \n",
       "std            2.864812  \n",
       "min            0.000000  \n",
       "25%            1.000000  \n",
       "50%            3.000000  \n",
       "75%            5.000000  \n",
       "max           10.000000  "
      ]
     },
     "execution_count": 39,
     "metadata": {},
     "output_type": "execute_result"
    }
   ],
   "source": [
    "# verificamos los rangos\n",
    "df_clients_A.describe()"
   ]
  },
  {
   "cell_type": "markdown",
   "id": "71f848d1-5dd5-4467-8b2c-8a475ec4fe76",
   "metadata": {},
   "source": [
    "Encontramos anomalias en las columnas de **Age** y de **Total_Credit_Cards**"
   ]
  },
  {
   "cell_type": "code",
   "execution_count": 40,
   "id": "480bf5ff-8124-434c-8a60-80f962b93df7",
   "metadata": {},
   "outputs": [
    {
     "data": {
      "text/html": [
       "<div>\n",
       "<style scoped>\n",
       "    .dataframe tbody tr th:only-of-type {\n",
       "        vertical-align: middle;\n",
       "    }\n",
       "\n",
       "    .dataframe tbody tr th {\n",
       "        vertical-align: top;\n",
       "    }\n",
       "\n",
       "    .dataframe thead th {\n",
       "        text-align: right;\n",
       "    }\n",
       "</style>\n",
       "<table border=\"1\" class=\"dataframe\">\n",
       "  <thead>\n",
       "    <tr style=\"text-align: right;\">\n",
       "      <th></th>\n",
       "      <th>Limit_bal</th>\n",
       "      <th>Sex</th>\n",
       "      <th>Education</th>\n",
       "      <th>Marriage</th>\n",
       "      <th>Age</th>\n",
       "      <th>Total_Credit_Cards</th>\n",
       "      <th>Total_visits_bank</th>\n",
       "      <th>Total_visits_online</th>\n",
       "      <th>Total_calls_made</th>\n",
       "    </tr>\n",
       "  </thead>\n",
       "  <tbody>\n",
       "    <tr>\n",
       "      <th>42</th>\n",
       "      <td>10000</td>\n",
       "      <td>1</td>\n",
       "      <td>2</td>\n",
       "      <td>0</td>\n",
       "      <td>2202</td>\n",
       "      <td>4</td>\n",
       "      <td>2</td>\n",
       "      <td>3</td>\n",
       "      <td>4</td>\n",
       "    </tr>\n",
       "    <tr>\n",
       "      <th>46</th>\n",
       "      <td>20000</td>\n",
       "      <td>0</td>\n",
       "      <td>1</td>\n",
       "      <td>0</td>\n",
       "      <td>36745</td>\n",
       "      <td>1</td>\n",
       "      <td>2</td>\n",
       "      <td>2</td>\n",
       "      <td>5</td>\n",
       "    </tr>\n",
       "    <tr>\n",
       "      <th>50</th>\n",
       "      <td>70000</td>\n",
       "      <td>1</td>\n",
       "      <td>3</td>\n",
       "      <td>2</td>\n",
       "      <td>789</td>\n",
       "      <td>1</td>\n",
       "      <td>0</td>\n",
       "      <td>5</td>\n",
       "      <td>9</td>\n",
       "    </tr>\n",
       "  </tbody>\n",
       "</table>\n",
       "</div>"
      ],
      "text/plain": [
       "    Limit_bal  Sex  Education  Marriage    Age  Total_Credit_Cards  \\\n",
       "42      10000    1          2         0   2202                   4   \n",
       "46      20000    0          1         0  36745                   1   \n",
       "50      70000    1          3         2    789                   1   \n",
       "\n",
       "    Total_visits_bank  Total_visits_online  Total_calls_made  \n",
       "42                  2                    3                 4  \n",
       "46                  2                    2                 5  \n",
       "50                  0                    5                 9  "
      ]
     },
     "execution_count": 40,
     "metadata": {},
     "output_type": "execute_result"
    }
   ],
   "source": [
    "df_clients_A[ df_clients_A['Age'] > 130 ]"
   ]
  },
  {
   "cell_type": "markdown",
   "id": "272dd430-d609-4bb8-be30-b40d168bb548",
   "metadata": {},
   "source": [
    "Consideramos eliminar estas filas, debido a que desconocemos la edad real. Debido a que estas pueden impactar en el rendimiento del modelo."
   ]
  },
  {
   "cell_type": "code",
   "execution_count": 41,
   "id": "e9899b99-14b1-4613-8cc8-a0d1c600cc4f",
   "metadata": {},
   "outputs": [
    {
     "data": {
      "text/html": [
       "<div>\n",
       "<style scoped>\n",
       "    .dataframe tbody tr th:only-of-type {\n",
       "        vertical-align: middle;\n",
       "    }\n",
       "\n",
       "    .dataframe tbody tr th {\n",
       "        vertical-align: top;\n",
       "    }\n",
       "\n",
       "    .dataframe thead th {\n",
       "        text-align: right;\n",
       "    }\n",
       "</style>\n",
       "<table border=\"1\" class=\"dataframe\">\n",
       "  <thead>\n",
       "    <tr style=\"text-align: right;\">\n",
       "      <th></th>\n",
       "      <th>Limit_bal</th>\n",
       "      <th>Sex</th>\n",
       "      <th>Education</th>\n",
       "      <th>Marriage</th>\n",
       "      <th>Age</th>\n",
       "      <th>Total_Credit_Cards</th>\n",
       "      <th>Total_visits_bank</th>\n",
       "      <th>Total_visits_online</th>\n",
       "      <th>Total_calls_made</th>\n",
       "    </tr>\n",
       "  </thead>\n",
       "  <tbody>\n",
       "  </tbody>\n",
       "</table>\n",
       "</div>"
      ],
      "text/plain": [
       "Empty DataFrame\n",
       "Columns: [Limit_bal, Sex, Education, Marriage, Age, Total_Credit_Cards, Total_visits_bank, Total_visits_online, Total_calls_made]\n",
       "Index: []"
      ]
     },
     "execution_count": 41,
     "metadata": {},
     "output_type": "execute_result"
    }
   ],
   "source": [
    "df_clients_A = df_clients_A.drop([42,46,50], axis=0)\n",
    "\n",
    "#comprobamos\n",
    "df_clients_A[ df_clients_A['Age'] > 130 ]\n"
   ]
  },
  {
   "cell_type": "code",
   "execution_count": 42,
   "id": "18c580ca-3278-4873-a394-8058d63a2084",
   "metadata": {},
   "outputs": [
    {
     "data": {
      "text/html": [
       "<div>\n",
       "<style scoped>\n",
       "    .dataframe tbody tr th:only-of-type {\n",
       "        vertical-align: middle;\n",
       "    }\n",
       "\n",
       "    .dataframe tbody tr th {\n",
       "        vertical-align: top;\n",
       "    }\n",
       "\n",
       "    .dataframe thead th {\n",
       "        text-align: right;\n",
       "    }\n",
       "</style>\n",
       "<table border=\"1\" class=\"dataframe\">\n",
       "  <thead>\n",
       "    <tr style=\"text-align: right;\">\n",
       "      <th></th>\n",
       "      <th>Limit_bal</th>\n",
       "      <th>Sex</th>\n",
       "      <th>Education</th>\n",
       "      <th>Marriage</th>\n",
       "      <th>Age</th>\n",
       "      <th>Total_Credit_Cards</th>\n",
       "      <th>Total_visits_bank</th>\n",
       "      <th>Total_visits_online</th>\n",
       "      <th>Total_calls_made</th>\n",
       "    </tr>\n",
       "  </thead>\n",
       "  <tbody>\n",
       "    <tr>\n",
       "      <th>74</th>\n",
       "      <td>340000</td>\n",
       "      <td>1</td>\n",
       "      <td>1</td>\n",
       "      <td>0</td>\n",
       "      <td>32</td>\n",
       "      <td>123456789</td>\n",
       "      <td>0</td>\n",
       "      <td>5</td>\n",
       "      <td>8</td>\n",
       "    </tr>\n",
       "  </tbody>\n",
       "</table>\n",
       "</div>"
      ],
      "text/plain": [
       "    Limit_bal  Sex  Education  Marriage  Age  Total_Credit_Cards  \\\n",
       "74     340000    1          1         0   32           123456789   \n",
       "\n",
       "    Total_visits_bank  Total_visits_online  Total_calls_made  \n",
       "74                  0                    5                 8  "
      ]
     },
     "execution_count": 42,
     "metadata": {},
     "output_type": "execute_result"
    }
   ],
   "source": [
    "df_clients_A[ df_clients_A['Total_Credit_Cards'] > 10 ]"
   ]
  },
  {
   "cell_type": "code",
   "execution_count": 43,
   "id": "be862203-2c6e-478d-b585-aff4513ca16c",
   "metadata": {},
   "outputs": [
    {
     "data": {
      "text/html": [
       "<div>\n",
       "<style scoped>\n",
       "    .dataframe tbody tr th:only-of-type {\n",
       "        vertical-align: middle;\n",
       "    }\n",
       "\n",
       "    .dataframe tbody tr th {\n",
       "        vertical-align: top;\n",
       "    }\n",
       "\n",
       "    .dataframe thead th {\n",
       "        text-align: right;\n",
       "    }\n",
       "</style>\n",
       "<table border=\"1\" class=\"dataframe\">\n",
       "  <thead>\n",
       "    <tr style=\"text-align: right;\">\n",
       "      <th></th>\n",
       "      <th>Limit_bal</th>\n",
       "      <th>Sex</th>\n",
       "      <th>Education</th>\n",
       "      <th>Marriage</th>\n",
       "      <th>Age</th>\n",
       "      <th>Total_Credit_Cards</th>\n",
       "      <th>Total_visits_bank</th>\n",
       "      <th>Total_visits_online</th>\n",
       "      <th>Total_calls_made</th>\n",
       "    </tr>\n",
       "  </thead>\n",
       "  <tbody>\n",
       "  </tbody>\n",
       "</table>\n",
       "</div>"
      ],
      "text/plain": [
       "Empty DataFrame\n",
       "Columns: [Limit_bal, Sex, Education, Marriage, Age, Total_Credit_Cards, Total_visits_bank, Total_visits_online, Total_calls_made]\n",
       "Index: []"
      ]
     },
     "execution_count": 43,
     "metadata": {},
     "output_type": "execute_result"
    }
   ],
   "source": [
    "#eliminamos la fila debido al numero anormal de tarjtas de credito\n",
    "df_clients_A = df_clients_A.drop([74], axis=0)\n",
    "\n",
    "#comprobamos\n",
    "df_clients_A[ df_clients_A['Total_Credit_Cards'] > 10 ]"
   ]
  },
  {
   "cell_type": "code",
   "execution_count": 44,
   "id": "8306e40f-77f9-4fba-82b6-2cc7ac673f91",
   "metadata": {},
   "outputs": [
    {
     "data": {
      "text/html": [
       "<div>\n",
       "<style scoped>\n",
       "    .dataframe tbody tr th:only-of-type {\n",
       "        vertical-align: middle;\n",
       "    }\n",
       "\n",
       "    .dataframe tbody tr th {\n",
       "        vertical-align: top;\n",
       "    }\n",
       "\n",
       "    .dataframe thead th {\n",
       "        text-align: right;\n",
       "    }\n",
       "</style>\n",
       "<table border=\"1\" class=\"dataframe\">\n",
       "  <thead>\n",
       "    <tr style=\"text-align: right;\">\n",
       "      <th></th>\n",
       "      <th>Limit_bal</th>\n",
       "      <th>Sex</th>\n",
       "      <th>Education</th>\n",
       "      <th>Marriage</th>\n",
       "      <th>Age</th>\n",
       "      <th>Total_Credit_Cards</th>\n",
       "      <th>Total_visits_bank</th>\n",
       "      <th>Total_visits_online</th>\n",
       "      <th>Total_calls_made</th>\n",
       "    </tr>\n",
       "  </thead>\n",
       "  <tbody>\n",
       "    <tr>\n",
       "      <th>count</th>\n",
       "      <td>652.000000</td>\n",
       "      <td>652.000000</td>\n",
       "      <td>652.000000</td>\n",
       "      <td>652.000000</td>\n",
       "      <td>652.000000</td>\n",
       "      <td>652.000000</td>\n",
       "      <td>652.000000</td>\n",
       "      <td>652.000000</td>\n",
       "      <td>652.000000</td>\n",
       "    </tr>\n",
       "    <tr>\n",
       "      <th>mean</th>\n",
       "      <td>170552.147239</td>\n",
       "      <td>0.423313</td>\n",
       "      <td>1.783742</td>\n",
       "      <td>0.450920</td>\n",
       "      <td>35.085890</td>\n",
       "      <td>4.736196</td>\n",
       "      <td>2.421779</td>\n",
       "      <td>2.590491</td>\n",
       "      <td>3.541411</td>\n",
       "    </tr>\n",
       "    <tr>\n",
       "      <th>std</th>\n",
       "      <td>129739.199740</td>\n",
       "      <td>0.494463</td>\n",
       "      <td>0.778462</td>\n",
       "      <td>0.547904</td>\n",
       "      <td>9.359618</td>\n",
       "      <td>2.161180</td>\n",
       "      <td>1.629703</td>\n",
       "      <td>2.946961</td>\n",
       "      <td>2.859721</td>\n",
       "    </tr>\n",
       "    <tr>\n",
       "      <th>min</th>\n",
       "      <td>10000.000000</td>\n",
       "      <td>0.000000</td>\n",
       "      <td>1.000000</td>\n",
       "      <td>0.000000</td>\n",
       "      <td>21.000000</td>\n",
       "      <td>1.000000</td>\n",
       "      <td>0.000000</td>\n",
       "      <td>0.000000</td>\n",
       "      <td>0.000000</td>\n",
       "    </tr>\n",
       "    <tr>\n",
       "      <th>25%</th>\n",
       "      <td>57500.000000</td>\n",
       "      <td>0.000000</td>\n",
       "      <td>1.000000</td>\n",
       "      <td>0.000000</td>\n",
       "      <td>28.000000</td>\n",
       "      <td>3.000000</td>\n",
       "      <td>1.000000</td>\n",
       "      <td>1.000000</td>\n",
       "      <td>1.000000</td>\n",
       "    </tr>\n",
       "    <tr>\n",
       "      <th>50%</th>\n",
       "      <td>140000.000000</td>\n",
       "      <td>0.000000</td>\n",
       "      <td>2.000000</td>\n",
       "      <td>0.000000</td>\n",
       "      <td>33.000000</td>\n",
       "      <td>5.000000</td>\n",
       "      <td>2.000000</td>\n",
       "      <td>2.000000</td>\n",
       "      <td>3.000000</td>\n",
       "    </tr>\n",
       "    <tr>\n",
       "      <th>75%</th>\n",
       "      <td>240000.000000</td>\n",
       "      <td>1.000000</td>\n",
       "      <td>2.000000</td>\n",
       "      <td>1.000000</td>\n",
       "      <td>41.000000</td>\n",
       "      <td>6.000000</td>\n",
       "      <td>4.000000</td>\n",
       "      <td>4.000000</td>\n",
       "      <td>5.000000</td>\n",
       "    </tr>\n",
       "    <tr>\n",
       "      <th>max</th>\n",
       "      <td>630000.000000</td>\n",
       "      <td>1.000000</td>\n",
       "      <td>6.000000</td>\n",
       "      <td>2.000000</td>\n",
       "      <td>75.000000</td>\n",
       "      <td>10.000000</td>\n",
       "      <td>5.000000</td>\n",
       "      <td>15.000000</td>\n",
       "      <td>10.000000</td>\n",
       "    </tr>\n",
       "  </tbody>\n",
       "</table>\n",
       "</div>"
      ],
      "text/plain": [
       "           Limit_bal         Sex   Education    Marriage         Age  \\\n",
       "count     652.000000  652.000000  652.000000  652.000000  652.000000   \n",
       "mean   170552.147239    0.423313    1.783742    0.450920   35.085890   \n",
       "std    129739.199740    0.494463    0.778462    0.547904    9.359618   \n",
       "min     10000.000000    0.000000    1.000000    0.000000   21.000000   \n",
       "25%     57500.000000    0.000000    1.000000    0.000000   28.000000   \n",
       "50%    140000.000000    0.000000    2.000000    0.000000   33.000000   \n",
       "75%    240000.000000    1.000000    2.000000    1.000000   41.000000   \n",
       "max    630000.000000    1.000000    6.000000    2.000000   75.000000   \n",
       "\n",
       "       Total_Credit_Cards  Total_visits_bank  Total_visits_online  \\\n",
       "count          652.000000         652.000000           652.000000   \n",
       "mean             4.736196           2.421779             2.590491   \n",
       "std              2.161180           1.629703             2.946961   \n",
       "min              1.000000           0.000000             0.000000   \n",
       "25%              3.000000           1.000000             1.000000   \n",
       "50%              5.000000           2.000000             2.000000   \n",
       "75%              6.000000           4.000000             4.000000   \n",
       "max             10.000000           5.000000            15.000000   \n",
       "\n",
       "       Total_calls_made  \n",
       "count        652.000000  \n",
       "mean           3.541411  \n",
       "std            2.859721  \n",
       "min            0.000000  \n",
       "25%            1.000000  \n",
       "50%            3.000000  \n",
       "75%            5.000000  \n",
       "max           10.000000  "
      ]
     },
     "execution_count": 44,
     "metadata": {},
     "output_type": "execute_result"
    }
   ],
   "source": [
    "# verificamos los rangos\n",
    "df_clients_A.describe()"
   ]
  },
  {
   "cell_type": "markdown",
   "id": "7a37ed5e-a81f-44b2-9ba3-4e2ecde92e71",
   "metadata": {},
   "source": [
    "Tambien encontramos que **Education** es mejor manejar los tipos de *5=unknown* y *6=unknown*. como un solo digito que es el 4=others"
   ]
  },
  {
   "cell_type": "code",
   "execution_count": 45,
   "id": "6199befe-bbf3-4be4-980f-f3980f018cb3",
   "metadata": {},
   "outputs": [
    {
     "data": {
      "text/plain": [
       "2    287\n",
       "1    260\n",
       "3     98\n",
       "4      7\n",
       "Name: Education, dtype: int64"
      ]
     },
     "execution_count": 45,
     "metadata": {},
     "output_type": "execute_result"
    }
   ],
   "source": [
    "#reemplazamos 5 y 6 => 4\n",
    "df_clients_A.Education = df_clients_A.Education.replace({5:4,6:4})\n",
    "\n",
    "#comprobamos\n",
    "df_clients_A.Education.value_counts()"
   ]
  },
  {
   "cell_type": "code",
   "execution_count": 46,
   "id": "3f400dc1-6136-4b72-a371-ac3520bad8ba",
   "metadata": {},
   "outputs": [
    {
     "data": {
      "text/html": [
       "<div>\n",
       "<style scoped>\n",
       "    .dataframe tbody tr th:only-of-type {\n",
       "        vertical-align: middle;\n",
       "    }\n",
       "\n",
       "    .dataframe tbody tr th {\n",
       "        vertical-align: top;\n",
       "    }\n",
       "\n",
       "    .dataframe thead th {\n",
       "        text-align: right;\n",
       "    }\n",
       "</style>\n",
       "<table border=\"1\" class=\"dataframe\">\n",
       "  <thead>\n",
       "    <tr style=\"text-align: right;\">\n",
       "      <th></th>\n",
       "      <th>Limit_bal</th>\n",
       "      <th>Sex</th>\n",
       "      <th>Education</th>\n",
       "      <th>Marriage</th>\n",
       "      <th>Age</th>\n",
       "      <th>Total_Credit_Cards</th>\n",
       "      <th>Total_visits_bank</th>\n",
       "      <th>Total_visits_online</th>\n",
       "      <th>Total_calls_made</th>\n",
       "    </tr>\n",
       "  </thead>\n",
       "  <tbody>\n",
       "    <tr>\n",
       "      <th>count</th>\n",
       "      <td>652.000000</td>\n",
       "      <td>652.000000</td>\n",
       "      <td>652.000000</td>\n",
       "      <td>652.000000</td>\n",
       "      <td>652.000000</td>\n",
       "      <td>652.000000</td>\n",
       "      <td>652.000000</td>\n",
       "      <td>652.000000</td>\n",
       "      <td>652.000000</td>\n",
       "    </tr>\n",
       "    <tr>\n",
       "      <th>mean</th>\n",
       "      <td>170552.147239</td>\n",
       "      <td>0.423313</td>\n",
       "      <td>1.773006</td>\n",
       "      <td>0.450920</td>\n",
       "      <td>35.085890</td>\n",
       "      <td>4.736196</td>\n",
       "      <td>2.421779</td>\n",
       "      <td>2.590491</td>\n",
       "      <td>3.541411</td>\n",
       "    </tr>\n",
       "    <tr>\n",
       "      <th>std</th>\n",
       "      <td>129739.199740</td>\n",
       "      <td>0.494463</td>\n",
       "      <td>0.735750</td>\n",
       "      <td>0.547904</td>\n",
       "      <td>9.359618</td>\n",
       "      <td>2.161180</td>\n",
       "      <td>1.629703</td>\n",
       "      <td>2.946961</td>\n",
       "      <td>2.859721</td>\n",
       "    </tr>\n",
       "    <tr>\n",
       "      <th>min</th>\n",
       "      <td>10000.000000</td>\n",
       "      <td>0.000000</td>\n",
       "      <td>1.000000</td>\n",
       "      <td>0.000000</td>\n",
       "      <td>21.000000</td>\n",
       "      <td>1.000000</td>\n",
       "      <td>0.000000</td>\n",
       "      <td>0.000000</td>\n",
       "      <td>0.000000</td>\n",
       "    </tr>\n",
       "    <tr>\n",
       "      <th>25%</th>\n",
       "      <td>57500.000000</td>\n",
       "      <td>0.000000</td>\n",
       "      <td>1.000000</td>\n",
       "      <td>0.000000</td>\n",
       "      <td>28.000000</td>\n",
       "      <td>3.000000</td>\n",
       "      <td>1.000000</td>\n",
       "      <td>1.000000</td>\n",
       "      <td>1.000000</td>\n",
       "    </tr>\n",
       "    <tr>\n",
       "      <th>50%</th>\n",
       "      <td>140000.000000</td>\n",
       "      <td>0.000000</td>\n",
       "      <td>2.000000</td>\n",
       "      <td>0.000000</td>\n",
       "      <td>33.000000</td>\n",
       "      <td>5.000000</td>\n",
       "      <td>2.000000</td>\n",
       "      <td>2.000000</td>\n",
       "      <td>3.000000</td>\n",
       "    </tr>\n",
       "    <tr>\n",
       "      <th>75%</th>\n",
       "      <td>240000.000000</td>\n",
       "      <td>1.000000</td>\n",
       "      <td>2.000000</td>\n",
       "      <td>1.000000</td>\n",
       "      <td>41.000000</td>\n",
       "      <td>6.000000</td>\n",
       "      <td>4.000000</td>\n",
       "      <td>4.000000</td>\n",
       "      <td>5.000000</td>\n",
       "    </tr>\n",
       "    <tr>\n",
       "      <th>max</th>\n",
       "      <td>630000.000000</td>\n",
       "      <td>1.000000</td>\n",
       "      <td>4.000000</td>\n",
       "      <td>2.000000</td>\n",
       "      <td>75.000000</td>\n",
       "      <td>10.000000</td>\n",
       "      <td>5.000000</td>\n",
       "      <td>15.000000</td>\n",
       "      <td>10.000000</td>\n",
       "    </tr>\n",
       "  </tbody>\n",
       "</table>\n",
       "</div>"
      ],
      "text/plain": [
       "           Limit_bal         Sex   Education    Marriage         Age  \\\n",
       "count     652.000000  652.000000  652.000000  652.000000  652.000000   \n",
       "mean   170552.147239    0.423313    1.773006    0.450920   35.085890   \n",
       "std    129739.199740    0.494463    0.735750    0.547904    9.359618   \n",
       "min     10000.000000    0.000000    1.000000    0.000000   21.000000   \n",
       "25%     57500.000000    0.000000    1.000000    0.000000   28.000000   \n",
       "50%    140000.000000    0.000000    2.000000    0.000000   33.000000   \n",
       "75%    240000.000000    1.000000    2.000000    1.000000   41.000000   \n",
       "max    630000.000000    1.000000    4.000000    2.000000   75.000000   \n",
       "\n",
       "       Total_Credit_Cards  Total_visits_bank  Total_visits_online  \\\n",
       "count          652.000000         652.000000           652.000000   \n",
       "mean             4.736196           2.421779             2.590491   \n",
       "std              2.161180           1.629703             2.946961   \n",
       "min              1.000000           0.000000             0.000000   \n",
       "25%              3.000000           1.000000             1.000000   \n",
       "50%              5.000000           2.000000             2.000000   \n",
       "75%              6.000000           4.000000             4.000000   \n",
       "max             10.000000           5.000000            15.000000   \n",
       "\n",
       "       Total_calls_made  \n",
       "count        652.000000  \n",
       "mean           3.541411  \n",
       "std            2.859721  \n",
       "min            0.000000  \n",
       "25%            1.000000  \n",
       "50%            3.000000  \n",
       "75%            5.000000  \n",
       "max           10.000000  "
      ]
     },
     "execution_count": 46,
     "metadata": {},
     "output_type": "execute_result"
    }
   ],
   "source": [
    "# verificamos los rangos\n",
    "df_clients_A.describe()"
   ]
  },
  {
   "cell_type": "code",
   "execution_count": 47,
   "id": "6c667f3f-6635-4b98-80ce-05d5b3f158de",
   "metadata": {},
   "outputs": [
    {
     "data": {
      "image/png": "[encoded data removed]",
      "text/plain": [
       "<Figure size 1440x576 with 1 Axes>"
      ]
     },
     "metadata": {
      "needs_background": "light"
     },
     "output_type": "display_data"
    }
   ],
   "source": [
    "#Visualización de todas las variables\n",
    "fig = plt.figure(figsize=(20,8))\n",
    "ax= sns.boxplot( data = df_clients_A, orient=\"v\" )"
   ]
  },
  {
   "cell_type": "code",
   "execution_count": 48,
   "id": "9dcfecc2-da86-46a7-a17f-1bcad7ed5223",
   "metadata": {},
   "outputs": [
    {
     "data": {
      "image/png": "[encoded data removed]",
      "text/plain": [
       "<Figure size 1440x576 with 1 Axes>"
      ]
     },
     "metadata": {
      "needs_background": "light"
     },
     "output_type": "display_data"
    }
   ],
   "source": [
    "#Visualización de todas las variables menos Limit_bal, para ver mejor el contenido de las otras variables\n",
    "df_clients_A_sinbal = df_clients_A.copy() #se realiza una copia del dataFrame para no comprometer los datos\n",
    "del df_clients_A_sinbal['Limit_bal']\n",
    "fig2 = plt.figure(figsize=(20,8))\n",
    "ax2 = sns.boxplot( data = df_clients_A_sinbal, orient=\"v\" )\n"
   ]
  },
  {
   "cell_type": "code",
   "execution_count": 49,
   "id": "3a62e2af-1d5b-445f-8e2a-ef6a52319626",
   "metadata": {},
   "outputs": [
    {
     "data": {
      "image/png": "[encoded data removed]",
      "text/plain": [
       "<Figure size 1440x576 with 1 Axes>"
      ]
     },
     "metadata": {
      "needs_background": "light"
     },
     "output_type": "display_data"
    }
   ],
   "source": [
    "#Visualización de todas las variables menos Limit_bal y Age, para ver mejor el contenido de las otras variables\n",
    "del df_clients_A_sinbal['Age']\n",
    "fig2 = plt.figure(figsize=(20,8))\n",
    "ax2 = sns.boxplot( data = df_clients_A_sinbal, orient=\"v\" )"
   ]
  },
  {
   "cell_type": "code",
   "execution_count": 50,
   "id": "7cf405d7-7676-402e-a08d-1f819385e92f",
   "metadata": {},
   "outputs": [
    {
     "data": {
      "text/plain": [
       "<function matplotlib.pyplot.show(close=None, block=None)>"
      ]
     },
     "execution_count": 50,
     "metadata": {},
     "output_type": "execute_result"
    },
    {
     "data": {
      "image/png": "[encoded data removed]",
      "text/plain": [
       "<Figure size 1620x1620 with 90 Axes>"
      ]
     },
     "metadata": {
      "needs_background": "light"
     },
     "output_type": "display_data"
    }
   ],
   "source": [
    "# visualización para lograr inferir algun tipo de relación entre los datos.\n",
    "cols = ['Limit_bal','Sex','Education','Marriage','Age','Total_Credit_Cards','Total_visits_bank','Total_visits_online','Total_calls_made']\n",
    "sns.pairplot(df_clients_A[cols],height=2.5)\n",
    "plt.tight_layout()\n",
    "plt.show"
   ]
  },
  {
   "cell_type": "markdown",
   "id": "2eb9788c-5af0-4052-86b9-5919a0a7f635",
   "metadata": {},
   "source": [
    "Logramos encontrar un tipo de relacion entre **Limit_bal** y **Age**, podria ser un tipo natural de datos."
   ]
  },
  {
   "cell_type": "code",
   "execution_count": null,
   "id": "b908ea6d-32db-4cb1-8564-476043fff5da",
   "metadata": {},
   "outputs": [],
   "source": [
    "sns.pairplot(df_clients_A, height=3,vars=['Limit_bal','Age'],kind='scatter')"
   ]
  },
  {
   "cell_type": "markdown",
   "id": "b828633c-c40f-4f4a-8312-688f97d0d35f",
   "metadata": {},
   "source": [
    "## 3. Clasificadores."
   ]
  },
  {
   "cell_type": "markdown",
   "id": "e307d5fd-d273-46c1-96fc-2604e31e2882",
   "metadata": {},
   "source": [
    "### 3.1 K-means"
   ]
  },
  {
   "cell_type": "markdown",
   "id": "eb5d36f3-9d16-4e98-8dc4-94c20dc00c31",
   "metadata": {},
   "source": [
    "# -----------------------------------------------------------\n",
    "\n"
   ]
  },
  {
   "cell_type": "code",
   "execution_count": null,
   "id": "c1bf99b5-4d43-41d9-9320-3408dbfccd24",
   "metadata": {},
   "outputs": [],
   "source": [
    "#normalizar\n",
    "df_clients_pru = df_clients_A.copy()\n",
    "df_clients_pru\n",
    "normalized_df=(df_clients_pru-df_clients_pru.min())/(df_clients_pru.max()-df_clients_pru.min())\n",
    "\n",
    "print(normalized_df)"
   ]
  },
  {
   "cell_type": "code",
   "execution_count": null,
   "id": "95cabf6b-e001-43e7-afd5-a1986dbd6fae",
   "metadata": {},
   "outputs": [],
   "source": [
    "def plot_distortion(data,\n",
    "                    k_min=1, \n",
    "                    k_max=11,\n",
    "                    ylabel = 'Distortion',\n",
    "                    xlabel = 'Number of clusters',\n",
    "                    title = 'Distortion Plot'):\n",
    "    '''\n",
    "    Graficar el codo de los clusters\n",
    "    \n",
    "    Parametros\n",
    "    ----------\n",
    "    data : np.array\n",
    "        El arreglo con los datos\n",
    "    k_min : int\n",
    "        Valor mínimo para k\n",
    "    k_max : int\n",
    "        Valor máximo para k\n",
    "    xlabel : string\n",
    "        La etiqueta del eje x\n",
    "    ylabel  string\n",
    "        La etiqueta del eje y    \n",
    "    title : string\n",
    "        El titulo de la gráfica  \n",
    "    '''\n",
    "    distortions = []\n",
    "    for i in range(k_min, k_max):\n",
    "        km = KMeans(n_clusters=i,\n",
    "                 init='k-means++',\n",
    "                 n_init=10,\n",
    "                 max_iter=300,\n",
    "                 random_state=0)\n",
    "        km.fit(data)\n",
    "        distortions.append(km.inertia_)\n",
    "    plt.plot(range(k_min,k_max), distortions, marker='o')\n",
    "    plt.xlabel(xlabel)\n",
    "    plt.ylabel(ylabel)\n",
    "    plt.show()"
   ]
  },
  {
   "cell_type": "code",
   "execution_count": null,
   "id": "cce884c3-32a7-46b3-b406-dbb067d68481",
   "metadata": {},
   "outputs": [],
   "source": [
    "plot_distortion(normalized_df,1,16)"
   ]
  },
  {
   "cell_type": "code",
   "execution_count": null,
   "id": "f00ac547-ed9a-492e-b39c-6b443e07d6d2",
   "metadata": {},
   "outputs": [],
   "source": [
    "def plot_selectK_silhoute(data,\n",
    "                    k_min=1, \n",
    "                    k_max=11,\n",
    "                    ylabel = 'Silhouette Coefficient',\n",
    "                    xlabel = 'Number of clusters',\n",
    "                    style = 'fivethirtyeight'):\n",
    "    '''\n",
    "    Graficar el codo de los clusters\n",
    "    \n",
    "    Parametros\n",
    "    ----------\n",
    "    data : np.array\n",
    "        El arreglo con los datos\n",
    "    k_min : int\n",
    "        Valor mínimo para k\n",
    "    k_max : int\n",
    "        Valor máximo para k\n",
    "    xlabel : string\n",
    "        La etiqueta del eje x\n",
    "    ylabel  string\n",
    "        La etiqueta del eje y    \n",
    "    title : string\n",
    "        El titulo de la gráfica  \n",
    "    '''\n",
    "    # Crear una lista para almacenar los coeficientes de la silueta para cada valor de k analizado\n",
    "​\n",
    "    silhouette_coefficients = []\n",
    "​\n",
    "    # Notice you start at 2 clusters for silhouette coefficient\n",
    "    for k in range(k_min, k_max):\n",
    "        kmeans = KMeans(n_clusters=k, random_state=0)\n",
    "        kmeans.fit(data)\n",
    "        score = silhouette_score(data, kmeans.labels_)\n",
    "        silhouette_coefficients.append(score)\n",
    "    plt.style.use(style)\n",
    "    plt.plot(range(k_min, k_max), silhouette_coefficients)\n",
    "    plt.xticks(range(k_min, k_max))\n",
    "    plt.xlabel(xlabel)\n",
    "    plt.ylabel(ylabel)\n",
    "    plt.show()    "
   ]
  },
  {
   "cell_type": "code",
   "execution_count": null,
   "id": "d84b2c96-b3be-4d3d-b0dc-5e7b211c0040",
   "metadata": {},
   "outputs": [],
   "source": [
    "# Esta función puede tomar bastantes minutos!!!\n",
    "plot_selectK_silhoute(normalized_df,\n",
    "                    k_min=2, \n",
    "                    k_max=12)"
   ]
  },
  {
   "cell_type": "code",
   "execution_count": null,
   "id": "4ae56cb1-aea6-41be-b946-7c65a4093e1b",
   "metadata": {},
   "outputs": [],
   "source": [
    "normalized_df.describe()"
   ]
  },
  {
   "cell_type": "code",
   "execution_count": null,
   "id": "afba47ba-0d46-49e8-be06-3b4ec1946b40",
   "metadata": {},
   "outputs": [],
   "source": [
    "name_cols_number = ['Education','Limit_bal','Age']"
   ]
  },
  {
   "cell_type": "code",
   "execution_count": null,
   "id": "a07fd9ae-aa7c-4570-8514-6af17f88335b",
   "metadata": {},
   "outputs": [],
   "source": [
    "N_clusters=5\n",
    "kmeans3 = KMeans(n_clusters=N_clusters, random_state=0) \n",
    "kmeans3 = kmeans3.fit(normalized_df[name_cols_number])"
   ]
  },
  {
   "cell_type": "code",
   "execution_count": null,
   "id": "7b617e4d-149d-43e7-8d09-b0a1caac4b2f",
   "metadata": {},
   "outputs": [],
   "source": [
    "#Transformar el contenido de las columnas a arreglo\n",
    "cols_number = normalized_df.to_numpy()\n",
    "cols_number"
   ]
  },
  {
   "cell_type": "code",
   "execution_count": null,
   "id": "f9625d54-3971-4e20-aadb-e619f7fcfe14",
   "metadata": {},
   "outputs": [],
   "source": [
    "# Revisar la cantidad de registros en los clústeres resultado\n",
    "labels = kmeans3.labels_\n",
    "normalized_df['Cluster'] = labels\n",
    "\n",
    "cluster_distrib = normalized_df['Cluster'].value_counts()\n",
    "\n",
    "fig=plt.figure(figsize=(12,8))\n",
    "sns.barplot(x=cluster_distrib.index, y=cluster_distrib.values, color='b');"
   ]
  },
  {
   "cell_type": "code",
   "execution_count": null,
   "id": "b7562687-f404-4912-8260-0526d12912a8",
   "metadata": {},
   "outputs": [],
   "source": [
    "# Revisar el número exacto de elementos por clúster y las variables utilizadas.\n",
    "normalized_df.groupby('Cluster').count()"
   ]
  },
  {
   "cell_type": "code",
   "execution_count": null,
   "id": "347c299e-ac08-46dc-939b-25dea880b348",
   "metadata": {},
   "outputs": [],
   "source": [
    "# Dibujar las primeras dos columnas utilizadas en el clustering que están en la posición 0 y 1\n",
    "plt.scatter(cols_number[kmeans3.labels_ == 0, 0], cols_number[kmeans3.labels_ == 0, 1], s = 100, marker='o', c = 'red', label = 'Cluster 1')\n",
    "plt.scatter(cols_number[kmeans3.labels_ == 1, 0], cols_number[kmeans3.labels_ == 1, 1], s = 100, marker='+', c = 'blue', label = 'Cluster 2')\n",
    "plt.scatter(cols_number[kmeans3.labels_ == 2, 0], cols_number[kmeans3.labels_ == 2, 1], s = 100, marker='*', c = 'green', label = 'Cluster 3')\n",
    "plt.scatter(cols_number[kmeans3.labels_ == 3, 0], cols_number[kmeans3.labels_ == 3, 1], s = 100, marker='v', c = 'purple', label = 'Cluster 4')\n",
    "plt.scatter(cols_number[kmeans3.labels_ == 4, 0], cols_number[kmeans3.labels_ == 4, 1], s = 100, marker='v', c = 'black', label = 'Cluster 5')\n",
    "\n",
    "plt.scatter(kmeans3.cluster_centers_[:, 0], kmeans3.cluster_centers_[:, 1], s = 100, c = 'yellow', label = 'Centroids')\n",
    "plt.title('Clusters of clients')\n",
    "plt.xlabel(name_cols_number[0])\n",
    "plt.ylabel(name_cols_number[1])\n",
    "plt.legend()\n",
    "plt.show()"
   ]
  },
  {
   "cell_type": "code",
   "execution_count": null,
   "id": "d1133cb4-91bb-421d-81ae-f4625f0fe9c2",
   "metadata": {},
   "outputs": [],
   "source": [
    "# Dibujar las primeras dos columnas utilizadas en el clustering que están en la posición 1 y 2\n",
    "plt.scatter(cols_number[kmeans3.labels_ == 0, 0], cols_number[kmeans3.labels_ == 0, 2], s = 100, marker='o', c = 'red', label = 'Cluster 1')\n",
    "plt.scatter(cols_number[kmeans3.labels_ == 1, 0], cols_number[kmeans3.labels_ == 1, 2], s = 100, marker='+', c = 'blue', label = 'Cluster 2')\n",
    "plt.scatter(cols_number[kmeans3.labels_ == 2, 0], cols_number[kmeans3.labels_ == 2, 2], s = 100, marker='*', c = 'green', label = 'Cluster 3')\n",
    "plt.scatter(cols_number[kmeans3.labels_ == 3, 0], cols_number[kmeans3.labels_ == 3, 2], s = 100, marker='v', c = 'purple', label = 'Cluster 4')\n",
    "plt.scatter(cols_number[kmeans3.labels_ == 4, 0], cols_number[kmeans3.labels_ == 4, 2], s = 100, marker='v', c = 'black', label = 'Cluster 5')\n",
    "\n",
    "plt.scatter(kmeans3.cluster_centers_[:, 1], kmeans3.cluster_centers_[:, 2], s = 100, c = 'yellow', label = 'Centroids')\n",
    "plt.title('Clusters of clients')\n",
    "plt.xlabel(name_cols_number[1])\n",
    "plt.ylabel(name_cols_number[2])\n",
    "plt.legend()\n",
    "plt.show()"
   ]
  },
  {
   "cell_type": "code",
   "execution_count": null,
   "id": "e28cfa21-26c5-49d0-923d-8156a54be1ab",
   "metadata": {},
   "outputs": [],
   "source": [
    "from mpl_toolkits.mplot3d import Axes3D\n",
    "\n",
    "fig=plt.figure()\n",
    "ax=Axes3D(fig)\n",
    "ax.scatter(cols_number[kmeans3.labels_ == 0, 0], cols_number[kmeans3.labels_ == 0, 1], cols_number[kmeans3.labels_ == 0, 2],color='red')\n",
    "ax.scatter(cols_number[kmeans3.labels_ == 2, 0], cols_number[kmeans3.labels_ == 2, 1], cols_number[kmeans3.labels_ == 2, 2],color='green')\n",
    "ax.scatter(cols_number[kmeans3.labels_ == 1, 0], cols_number[kmeans3.labels_ == 1, 1], cols_number[kmeans3.labels_ == 1, 2],color='blue')\n",
    "ax.scatter(cols_number[kmeans3.labels_ == 3, 0], cols_number[kmeans3.labels_ == 3, 1], cols_number[kmeans3.labels_ == 3, 2],color='purple')\n",
    "ax.scatter(cols_number[kmeans3.labels_ == 4, 0], cols_number[kmeans3.labels_ == 4, 1], cols_number[kmeans3.labels_ == 4, 2],color='yellow')\n",
    "\n",
    "ax.scatter(kmeans3.cluster_centers_[:, 0],kmeans3.cluster_centers_[:, 1], kmeans3.cluster_centers_[:, 2], color='black',marker='o',s=200, label='centroids')\n",
    "ax.set_xlabel(name_cols_number[0])\n",
    "ax.set_ylabel(name_cols_number[1])\n",
    "ax.set_zlabel(name_cols_number[2])\n",
    "plt.show()"
   ]
  },
  {
   "cell_type": "code",
   "execution_count": null,
   "id": "b495c2e6-0a22-4db8-b9c2-656aee424db1",
   "metadata": {},
   "outputs": [],
   "source": [
    "#Creamos una función basada en el concepto de silueta\n",
    "def plot_silhouette(data, \n",
    "                    labels,\n",
    "                   ylabel = 'Clústeres',\n",
    "                   xlabel = \"Silhouette coefficient\",\n",
    "                   title = 'Silhouette Plot'):\n",
    "    '''\n",
    "    Graficar la silueta de los clusters\n",
    "    \n",
    "    Parametros\n",
    "    ----------\n",
    "    data : np.array\n",
    "        El arreglo con los datos\n",
    "    labels : np.array\n",
    "        El arreglo con las etiquetas correspondientes\n",
    "    ylabel  string\n",
    "        La etiqueta del eje y\n",
    "    xlabel : string\n",
    "        La etiqueta del eje x\n",
    "    title : string\n",
    "        El titulo de la gráfica        \n",
    "    '''\n",
    "    cluster_labels = np.unique(labels)\n",
    "    print(cluster_labels)\n",
    "    n_clusters = cluster_labels.shape[0]\n",
    "    silhouette_vals = silhouette_samples(data,\n",
    "                                        labels,\n",
    "                                        metric='euclidean')\n",
    "    y_ax_lower, y_ax_upper = 0, 0\n",
    "    yticks = []\n",
    "    for i, c in enumerate(cluster_labels):\n",
    "        c_silhouette_vals = silhouette_vals[labels == c]\n",
    "        c_silhouette_vals.sort()\n",
    "        y_ax_upper += len(c_silhouette_vals)\n",
    "        color = cm.jet(float(i) / n_clusters)\n",
    "        plt.barh(range(y_ax_lower, y_ax_upper),\n",
    "                        c_silhouette_vals,\n",
    "                        height=1.0,\n",
    "                        edgecolor='none',\n",
    "                        color=color)\n",
    "        yticks.append((y_ax_lower + y_ax_upper) / 2.)\n",
    "        y_ax_lower += len(c_silhouette_vals)\n",
    "    silhouette_avg = np.mean(silhouette_vals)\n",
    "    plt.axvline(silhouette_avg,\n",
    "                color=\"red\",\n",
    "                linestyle=\"--\")\n",
    "    plt.yticks(yticks, cluster_labels+1)\n",
    "    plt.ylabel(ylabel)\n",
    "    plt.xlabel(xlabel)\n",
    "    plt.title(title)\n",
    "    plt.show()"
   ]
  },
  {
   "cell_type": "code",
   "execution_count": null,
   "id": "f248c6bb-a1f9-4965-8adf-3f04137aa8f2",
   "metadata": {},
   "outputs": [],
   "source": [
    "plot_silhouette(data = normalized_df, \n",
    "                labels = kmeans3.labels_, \n",
    "                ylabel = 'Clustering with four clusters')"
   ]
  },
  {
   "cell_type": "markdown",
   "id": "73b985f4-bab2-4f5a-849a-a51084e96f23",
   "metadata": {},
   "source": [
    "### 3.2 Clustering jerárquico"
   ]
  },
  {
   "cell_type": "markdown",
   "id": "3b0602e6-bdb0-46e0-b265-7765595290f6",
   "metadata": {},
   "source": [
    "Primero procederemos a normalizar todas las variables para que el algoritmo tenga un mejor performance al momento de segmentar los grupos."
   ]
  },
  {
   "cell_type": "code",
   "execution_count": null,
   "id": "f525991d-a9a8-481a-9f71-25c6ce7c3791",
   "metadata": {},
   "outputs": [],
   "source": [
    "df_clients_A_norm = ( (df_clients_A - df_clients_A.min()) / ( df_clients_A.max() - df_clients_A.min() ) )\n",
    "df_clients_A_norm"
   ]
  },
  {
   "cell_type": "markdown",
   "id": "157160ea-993d-45da-ab7f-a86a8aacd03a",
   "metadata": {},
   "source": [
    "Para segmentar adecuadamente los grupos realizaremos una prueba del método silhouette para identificar el número óptimo de clusters."
   ]
  },
  {
   "cell_type": "code",
   "execution_count": null,
   "id": "1940325b-e53a-4401-8f59-5d7a4615dc25",
   "metadata": {},
   "outputs": [],
   "source": [
    "# Método silhouette para identificar el número óptimo de clusters\n",
    "# ==============================================================================\n",
    "range_n_clusters = range(2, 15)\n",
    "valores_medios_silhouette = []\n",
    "dfAnalisis = df_clients_A_norm #nuestro dataFrame normalizado\n",
    "\n",
    "for n_clusters in range_n_clusters:\n",
    "    modelo = AgglomerativeClustering(\n",
    "                    affinity   = 'euclidean',\n",
    "                    linkage    = 'ward',\n",
    "                    n_clusters = n_clusters\n",
    "             )\n",
    "\n",
    "    cluster_labels = modelo.fit_predict(dfAnalisis)\n",
    "    silhouette_avg = silhouette_score(dfAnalisis, cluster_labels)\n",
    "    valores_medios_silhouette.append(silhouette_avg)\n",
    "    \n",
    "fig, ax = plt.subplots(1, 1, figsize=(6, 3.84))\n",
    "ax.plot(range_n_clusters, valores_medios_silhouette, marker='o')\n",
    "ax.set_title(\"Evolución de media de los índices silhouette\")\n",
    "ax.set_xlabel('Número clusters')\n",
    "ax.set_ylabel('Media índices silhouette');"
   ]
  },
  {
   "cell_type": "markdown",
   "id": "23f87a77-5fd9-47f9-bc28-2f75e60ba4d1",
   "metadata": {},
   "source": [
    "Podemos observar que el metodo nos indica que el numero de clusters apropiado para segmentar es de 5"
   ]
  },
  {
   "cell_type": "markdown",
   "id": "40b4d8d7-af61-4e3a-bd80-edacc6d42408",
   "metadata": {},
   "source": [
    "Creamos el **Dendrograma**, el cual es el arbol mediante el cual se presenta el clustering jerarquico."
   ]
  },
  {
   "cell_type": "code",
   "execution_count": null,
   "id": "cc1e2794-067f-4212-a5c4-c2f8d50468fe",
   "metadata": {},
   "outputs": [],
   "source": [
    "# realiza la agrupacion de acuerdo a la similitud de los individuos\n",
    "clustering_jerarquico = linkage(df_clients_A_norm, 'ward') #Utilizamos metodo Ward para agrupar los clusteres\n",
    "\n",
    "#graficamos el dendograma\n",
    "dendrogram = sch.dendrogram(clustering_jerarquico)"
   ]
  },
  {
   "cell_type": "markdown",
   "id": "b53aa164-b69f-4e89-a4e8-2b3a6d8786c5",
   "metadata": {},
   "source": [
    "Ahora con el dendrograma crearemos los clusters y realizaremos el corte en 8 para dividir el conjunto de datos en 5 grupos"
   ]
  },
  {
   "cell_type": "code",
   "execution_count": null,
   "id": "43dc78a4-d844-4822-bb08-917590af0856",
   "metadata": {},
   "outputs": [],
   "source": [
    "# la funcion fcluster asigna los clusters apartir de la informacion generada con la funcion linkage\n",
    "\n",
    "# Parametros\n",
    "# t: determina el corte deseado en el dendrogranma\n",
    "# criterion: es el criterio que utilizara para hacer el corte.\n",
    "# distance: distancia maxima existente entre los clusters y distancia sea igual al valor de t)\n",
    "clusters = fcluster(clustering_jerarquico, t=8, criterion='distance' )\n",
    "clusters"
   ]
  },
  {
   "cell_type": "markdown",
   "id": "aacff234-29f8-4413-a4b4-c9ac814936ad",
   "metadata": {},
   "source": [
    "Agregamos una nueva columna en el df original, que indica el numero al grupo que pertenece."
   ]
  },
  {
   "cell_type": "code",
   "execution_count": null,
   "id": "74dfd8c9-b68c-4e0c-b96e-0493aec74fd7",
   "metadata": {},
   "outputs": [],
   "source": [
    "df_clients_A_cj = df_clients_A.copy()\n",
    "df_clients_A_cj['clusters'] = clusters\n",
    "df_clients_A_cj.sample(4)"
   ]
  },
  {
   "cell_type": "code",
   "execution_count": null,
   "id": "a9b653da-87ff-44a9-bb9a-0c9aeab3a17d",
   "metadata": {},
   "outputs": [],
   "source": [
    "# contamos los valores\n",
    "df_clients_A_cj['clusters'].value_counts()"
   ]
  },
  {
   "cell_type": "code",
   "execution_count": null,
   "id": "2013ee53-9f6e-43e6-ad37-5e2c771e412a",
   "metadata": {},
   "outputs": [],
   "source": [
    "#graficamos\n",
    "cluster_distrib = df_clients_A_cj['clusters'].value_counts()\n",
    "\n",
    "fig=plt.figure(figsize=(12,8))\n",
    "sns.barplot(x=cluster_distrib.index, y=cluster_distrib.values);"
   ]
  },
  {
   "cell_type": "code",
   "execution_count": null,
   "id": "4cd223d7-7bab-4bd7-877b-a77a6ac454ff",
   "metadata": {},
   "outputs": [],
   "source": [
    "plt.figure(figsize=(10, 7))  \n",
    "plt.scatter(df_clients_A_cj['Age'], df_clients_A_cj['Limit_bal'],c=df_clients_A_cj['clusters'] , cmap='rainbow')  "
   ]
  },
  {
   "cell_type": "markdown",
   "id": "143264d1-5f23-4525-b423-d4c7d6ec1e78",
   "metadata": {},
   "source": [
    "Dado que en graficas anteriores se lograba visualizar que los grupos podians ser determinados por **Age** y **Limit_bal**, se esperaba una grafica con segmentacion clara"
   ]
  },
  {
   "cell_type": "markdown",
   "id": "f695c5be-5e5b-4fe5-ac5f-89641deeba52",
   "metadata": {},
   "source": [
    "Ahora utilizaremos *agglomerative clustering* con nuestros datos ya diferenciados para encontrar una mejor segmentación."
   ]
  },
  {
   "cell_type": "code",
   "execution_count": null,
   "id": "c892615f-218d-46d5-8deb-ccb7d81410de",
   "metadata": {},
   "outputs": [],
   "source": [
    "cluster = AgglomerativeClustering(n_clusters=5, affinity='euclidean', linkage='ward')  \n",
    "cluster.fit_predict(df_clients_A_cj)  \n",
    "\n",
    "plt.figure(figsize=(10, 7))  \n",
    "plt.scatter(df_clients_A_cj['Limit_bal'], df_clients_A_cj['Age'],c=cluster.labels_ , cmap='rainbow') "
   ]
  },
  {
   "cell_type": "markdown",
   "id": "85e0a621-6fc9-4636-9f92-900d1b1e3510",
   "metadata": {},
   "source": [
    "Se puede ver una clara segmentacion de los grupos, determinado por el monto del credito en dolares."
   ]
  },
  {
   "cell_type": "code",
   "execution_count": null,
   "id": "d6aaeb7d-2e1f-4fbd-a3f0-b3f146bcf3d7",
   "metadata": {},
   "outputs": [],
   "source": [
    "# clusteres finales\n",
    "df_clients_A_cj2 = df_clients_A_cj.copy()\n",
    "df_clients_A_cj2['cl'] = cluster.labels_ \n",
    "df_clients_A_cj2.sample(4)"
   ]
  },
  {
   "cell_type": "code",
   "execution_count": null,
   "id": "c814675f-e675-41ee-93fd-eaeba0a5b050",
   "metadata": {},
   "outputs": [],
   "source": [
    "#exportar a .csv\n",
    "df_clients_A_cj2.to_csv('gruposSegmentados.csv')"
   ]
  },
  {
   "cell_type": "code",
   "execution_count": null,
   "id": "0258a256-0d2e-42a1-93fb-46761d9b26ba",
   "metadata": {},
   "outputs": [],
   "source": [
    "# clusteres finales\n",
    "df_clients_A_cj3 = df_clients_A_cj.copy()\n",
    "df_clients_A_cj3['cl'] = cluster.labels_ \n",
    "df_clients_A_cj3.sample(4)"
   ]
  },
  {
   "cell_type": "markdown",
   "id": "95843868-c298-4d52-9316-405f90099311",
   "metadata": {},
   "source": [
    "### 3.3 Gaussian mixture models (GMMs)"
   ]
  },
  {
   "cell_type": "markdown",
   "id": "4d5cabb1-15db-4d2f-9a09-251ddbcc2421",
   "metadata": {},
   "source": [
    "Dado que es posible ver un grupo natural cuando observamos **Age** contra **Limit_bal**. Consideramos que para lograr una buena segmentacion con este algoritmo, se deben usar estas dos varibales"
   ]
  },
  {
   "cell_type": "code",
   "execution_count": null,
   "id": "435215bb-06b6-46bd-9fb1-62fa5b1e3e01",
   "metadata": {},
   "outputs": [],
   "source": [
    "features = ['Age', \"Limit_bal\"]\n",
    "\n",
    "X = df_clients_A[features].copy()"
   ]
  },
  {
   "cell_type": "code",
   "execution_count": null,
   "id": "c54e10ef-e668-4b85-a47d-40c1c37e401c",
   "metadata": {},
   "outputs": [],
   "source": [
    "# Modelo\n",
    "# ==============================================================================\n",
    "z = StandardScaler()\n",
    "X[features] = z.fit_transform(X)\n",
    "modelo_gmm = GaussianMixture(n_components=4, covariance_type='full', random_state=123)\n",
    "modelo_gmm.fit(X)"
   ]
  },
  {
   "cell_type": "code",
   "execution_count": null,
   "id": "5c462c00-9697-4340-ac41-62cb2bc309f1",
   "metadata": {},
   "outputs": [],
   "source": [
    "# Clasificación (asignación a la componente de mayor probabilidad)\n",
    "# ==============================================================================\n",
    "# Cada fila es una observación y cada columna la probabilidad de pertenecer a\n",
    "# cada una de las componentes.\n",
    "clusters = modelo_gmm.predict(X)\n",
    "clusters"
   ]
  },
  {
   "cell_type": "code",
   "execution_count": null,
   "id": "b1696118-5e98-460f-9bf2-f177fbc78204",
   "metadata": {},
   "outputs": [],
   "source": [
    "# Media de cada componente\n",
    "modelo_gmm.means_"
   ]
  },
  {
   "cell_type": "code",
   "execution_count": null,
   "id": "1ff66c9a-69f9-478d-a809-c0665292dd95",
   "metadata": {},
   "outputs": [],
   "source": [
    "# Matriz de covarianza de cada componente\n",
    "modelo_gmm.covariances_"
   ]
  },
  {
   "cell_type": "code",
   "execution_count": null,
   "id": "4e750885-918c-49b8-aabe-8ec5863f3b00",
   "metadata": {},
   "outputs": [],
   "source": [
    "# Probabilidades\n",
    "# ==============================================================================\n",
    "# Cada fila es una observación y cada columna la probabilidad de pertenecer a\n",
    "# cada una de las componentes.\n",
    "probabilidades = modelo_gmm.predict_proba(X)\n",
    "probabilidades"
   ]
  },
  {
   "cell_type": "code",
   "execution_count": null,
   "id": "f52133cf-b00f-4374-8ac4-930edfed1465",
   "metadata": {},
   "outputs": [],
   "source": [
    "print(\"SILHOUETTE: \", silhouette_score(X, clusters))"
   ]
  },
  {
   "cell_type": "code",
   "execution_count": null,
   "id": "bec83aca-823c-4b01-bd8d-3a8e30b343c3",
   "metadata": {},
   "outputs": [],
   "source": [
    "df_clients_A[\"clusters\"] = clusters\n",
    "\n",
    "(ggplot(df_clients_A, aes(x=\"Age\", y=\"Limit_bal\", color=\"clusterss\")) + geom_point())"
   ]
  },
  {
   "cell_type": "markdown",
   "id": "a77c3e2b-2475-43dc-b768-666c67db71ae",
   "metadata": {},
   "source": [
    "Comprobamos el numero de clusters optimo para el modelo"
   ]
  },
  {
   "cell_type": "code",
   "execution_count": null,
   "id": "884a338a-8a71-4794-ad38-2e39496386c3",
   "metadata": {},
   "outputs": [],
   "source": [
    "n_components = range(1, 21)\n",
    "valores_bic = []\n",
    "valores_aic = []\n",
    "\n",
    "for i in n_components:\n",
    "    modelo = GaussianMixture(n_components=i, covariance_type=\"full\")\n",
    "    modelo = modelo.fit(X)\n",
    "    valores_bic.append(modelo.bic(X))\n",
    "    valores_aic.append(modelo.aic(X))\n",
    "\n",
    "fig, ax = plt.subplots(1, 1, figsize=(6, 3.84))\n",
    "ax.plot(n_components, valores_bic, label='BIC')\n",
    "ax.plot(n_components, valores_aic, label='AIC')\n",
    "ax.set_title(\"Valores BIC y AIC\")\n",
    "ax.set_xlabel(\"Número componentes\")\n",
    "ax.legend();"
   ]
  },
  {
   "cell_type": "code",
   "execution_count": null,
   "id": "95fbbe1e-0ef5-461f-9ac0-c9d7c78ae0a4",
   "metadata": {},
   "outputs": [],
   "source": [
    "print(f\"Número óptimo acorde al BIC: {range(1, 21)[np.argmin(valores_bic)]}\")\n",
    "print(f\"Número óptimo acorde al AIC: {range(1, 21)[np.argmin(valores_aic)]}\")"
   ]
  }
 ],
 "metadata": {
  "kernelspec": {
   "display_name": "Python 3",
   "language": "python",
   "name": "python3"
  },
  "language_info": {
   "codemirror_mode": {
    "name": "ipython",
    "version": 3
   },
   "file_extension": ".py",
   "mimetype": "text/x-python",
   "name": "python",
   "nbconvert_exporter": "python",
   "pygments_lexer": "ipython3",
   "version": "3.8.8"
  }
 },
 "nbformat": 4,
 "nbformat_minor": 5
}

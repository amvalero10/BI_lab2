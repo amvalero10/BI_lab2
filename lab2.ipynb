{
 "cells": [
  {
   "cell_type": "markdown",
   "id": "e56bcbc3-4c44-4f80-a7dd-547749412c0e",
   "metadata": {},
   "source": [
    "<img src=\"./img/banner.png\">"
   ]
  },
  {
   "cell_type": "markdown",
   "id": "673a9200-2ea9-4d9f-abdc-e069af7fd125",
   "metadata": {},
   "source": [
    "# Laboratorio 2 - BancAlpes\n",
    "\n",
    "1. Carga y exploración de datos.\n",
    "\n",
    "    1.1. Importación de librerias.\n",
    "    \n",
    "    1.2. Carga de datos.\n",
    "    \n",
    "    1.3. Exploración.\n",
    "    \n",
    "2. Limpieza y preparación de los datos.\n",
    "\n",
    "    2.1. Tipo adecuado de cada atributo.\n",
    "    \n",
    "    2.2. Selección de atributos.\n",
    "    \n",
    "3. Clasificadores.\n",
    "\n",
    "    3.1.1. K-means.\n",
    "    \n",
    "    3.1.1. Clustering jerárquico.\n",
    "    \n",
    "    3.1.1."
   ]
  },
  {
   "cell_type": "markdown",
   "id": "17303576-cc14-45b5-9e52-5cc7a77f7230",
   "metadata": {},
   "source": [
    "## 1. Carga y exploración de datos."
   ]
  },
  {
   "cell_type": "markdown",
   "id": "d3afe433-ff67-4019-a359-24f7bc4b02d6",
   "metadata": {},
   "source": [
    "### 1.1. Importación de librerias."
   ]
  },
  {
   "cell_type": "code",
   "execution_count": 191,
   "id": "c1839685-5431-4236-94f1-51a557eae81e",
   "metadata": {},
   "outputs": [],
   "source": [
    "# Librerías para manejo de datos\n",
    "import pandas as pd\n",
    "import numpy as np\n",
    "\n",
    "# preparacion de los datos\n",
    "\n",
    "#Librerías para la visualización\n",
    "import matplotlib.pyplot as plt\n",
    "import seaborn as sns \n",
    "%matplotlib inline\n"
   ]
  },
  {
   "cell_type": "markdown",
   "id": "da3e3227-496d-40d2-9e2f-bda1e625adb7",
   "metadata": {},
   "source": [
    "### 1.2. Carga de datos."
   ]
  },
  {
   "cell_type": "code",
   "execution_count": 192,
   "id": "5fd88e21-ad3c-43eb-a122-4bd07109a7c9",
   "metadata": {},
   "outputs": [],
   "source": [
    "# carga de los datos\n",
    "# csv -> dataFrame\n",
    "df_clients = pd.read_csv('./datos/BancAlpes_credit_card_data.csv', sep=';', encoding = 'utf-8' )"
   ]
  },
  {
   "cell_type": "markdown",
   "id": "078319f0-dd63-47eb-8c03-290869e8447d",
   "metadata": {},
   "source": [
    "### 1.3. Exploración."
   ]
  },
  {
   "cell_type": "code",
   "execution_count": 193,
   "id": "7d596b39-0d92-4501-a09d-b857013d68b1",
   "metadata": {},
   "outputs": [
    {
     "data": {
      "text/plain": [
       "(660, 11)"
      ]
     },
     "execution_count": 193,
     "metadata": {},
     "output_type": "execute_result"
    }
   ],
   "source": [
    "#cantidad de datos y numero de variables\n",
    "df_clients.shape"
   ]
  },
  {
   "cell_type": "code",
   "execution_count": 194,
   "id": "53bf554b-5cf4-44f9-b4db-9b69ca153e88",
   "metadata": {},
   "outputs": [
    {
     "data": {
      "text/html": [
       "<div>\n",
       "<style scoped>\n",
       "    .dataframe tbody tr th:only-of-type {\n",
       "        vertical-align: middle;\n",
       "    }\n",
       "\n",
       "    .dataframe tbody tr th {\n",
       "        vertical-align: top;\n",
       "    }\n",
       "\n",
       "    .dataframe thead th {\n",
       "        text-align: right;\n",
       "    }\n",
       "</style>\n",
       "<table border=\"1\" class=\"dataframe\">\n",
       "  <thead>\n",
       "    <tr style=\"text-align: right;\">\n",
       "      <th></th>\n",
       "      <th>Id</th>\n",
       "      <th>Customer</th>\n",
       "      <th>Limit_bal</th>\n",
       "      <th>Sex</th>\n",
       "      <th>Education</th>\n",
       "      <th>Marriage</th>\n",
       "      <th>Age</th>\n",
       "      <th>Total_Credit_Cards</th>\n",
       "      <th>Total_visits_bank</th>\n",
       "      <th>Total_visits_online</th>\n",
       "      <th>Total_calls_made</th>\n",
       "    </tr>\n",
       "  </thead>\n",
       "  <tbody>\n",
       "    <tr>\n",
       "      <th>216</th>\n",
       "      <td>217</td>\n",
       "      <td>54477</td>\n",
       "      <td>240000</td>\n",
       "      <td>Female</td>\n",
       "      <td>2</td>\n",
       "      <td>Married</td>\n",
       "      <td>36</td>\n",
       "      <td>3</td>\n",
       "      <td>1</td>\n",
       "      <td>5</td>\n",
       "      <td>4</td>\n",
       "    </tr>\n",
       "    <tr>\n",
       "      <th>360</th>\n",
       "      <td>361</td>\n",
       "      <td>15318</td>\n",
       "      <td>500000</td>\n",
       "      <td>Female</td>\n",
       "      <td>2</td>\n",
       "      <td>Single</td>\n",
       "      <td>23</td>\n",
       "      <td>6</td>\n",
       "      <td>3</td>\n",
       "      <td>0</td>\n",
       "      <td>1</td>\n",
       "    </tr>\n",
       "    <tr>\n",
       "      <th>432</th>\n",
       "      <td>433</td>\n",
       "      <td>37252</td>\n",
       "      <td>110000</td>\n",
       "      <td>Female</td>\n",
       "      <td>1</td>\n",
       "      <td>Single</td>\n",
       "      <td>29</td>\n",
       "      <td>6</td>\n",
       "      <td>2</td>\n",
       "      <td>1</td>\n",
       "      <td>2</td>\n",
       "    </tr>\n",
       "    <tr>\n",
       "      <th>573</th>\n",
       "      <td>574</td>\n",
       "      <td>96534</td>\n",
       "      <td>160000</td>\n",
       "      <td>Female</td>\n",
       "      <td>2</td>\n",
       "      <td>Single</td>\n",
       "      <td>60</td>\n",
       "      <td>7</td>\n",
       "      <td>2</td>\n",
       "      <td>2</td>\n",
       "      <td>3</td>\n",
       "    </tr>\n",
       "    <tr>\n",
       "      <th>609</th>\n",
       "      <td>610</td>\n",
       "      <td>11562</td>\n",
       "      <td>200000</td>\n",
       "      <td>Female</td>\n",
       "      <td>2</td>\n",
       "      <td>Married</td>\n",
       "      <td>34</td>\n",
       "      <td>4</td>\n",
       "      <td>3</td>\n",
       "      <td>2</td>\n",
       "      <td>0</td>\n",
       "    </tr>\n",
       "  </tbody>\n",
       "</table>\n",
       "</div>"
      ],
      "text/plain": [
       "      Id Customer Limit_bal     Sex Education Marriage Age Total_Credit_Cards  \\\n",
       "216  217    54477    240000  Female         2  Married  36                  3   \n",
       "360  361    15318    500000  Female         2   Single  23                  6   \n",
       "432  433    37252    110000  Female         1   Single  29                  6   \n",
       "573  574    96534    160000  Female         2   Single  60                  7   \n",
       "609  610    11562    200000  Female         2  Married  34                  4   \n",
       "\n",
       "    Total_visits_bank Total_visits_online Total_calls_made  \n",
       "216                 1                   5                4  \n",
       "360                 3                   0                1  \n",
       "432                 2                   1                2  \n",
       "573                 2                   2                3  \n",
       "609                 3                   2                0  "
      ]
     },
     "execution_count": 194,
     "metadata": {},
     "output_type": "execute_result"
    }
   ],
   "source": [
    "# mostrar 5 filas al azar\n",
    "df_clients.sample(5)"
   ]
  },
  {
   "cell_type": "code",
   "execution_count": 195,
   "id": "32d962f0-a114-46d1-ae1b-d42e139053f4",
   "metadata": {},
   "outputs": [
    {
     "data": {
      "text/plain": [
       "Id                      int64\n",
       "Customer               object\n",
       "Limit_bal              object\n",
       "Sex                    object\n",
       "Education              object\n",
       "Marriage               object\n",
       "Age                    object\n",
       "Total_Credit_Cards     object\n",
       "Total_visits_bank      object\n",
       "Total_visits_online    object\n",
       "Total_calls_made       object\n",
       "dtype: object"
      ]
     },
     "execution_count": 195,
     "metadata": {},
     "output_type": "execute_result"
    }
   ],
   "source": [
    "# ver todos los tipos de variables \n",
    "df_clients.dtypes"
   ]
  },
  {
   "cell_type": "code",
   "execution_count": 196,
   "id": "771df9ba-a5d1-420d-9515-452a2bd84308",
   "metadata": {},
   "outputs": [
    {
     "data": {
      "text/plain": [
       "Id                     0\n",
       "Customer               0\n",
       "Limit_bal              0\n",
       "Sex                    0\n",
       "Education              0\n",
       "Marriage               0\n",
       "Age                    0\n",
       "Total_Credit_Cards     0\n",
       "Total_visits_bank      0\n",
       "Total_visits_online    0\n",
       "Total_calls_made       0\n",
       "dtype: int64"
      ]
     },
     "execution_count": 196,
     "metadata": {},
     "output_type": "execute_result"
    }
   ],
   "source": [
    "#cantidad de datos nulos\n",
    "df_clients.isnull().sum()"
   ]
  },
  {
   "cell_type": "markdown",
   "id": "57d8bcbe-a181-4afc-a01b-b1a7db811ca9",
   "metadata": {},
   "source": [
    "No existen datos nulos."
   ]
  },
  {
   "cell_type": "markdown",
   "id": "2fbd0d95-0496-41dc-a1ed-de4bd77e6afa",
   "metadata": {},
   "source": [
    "## 2. Limpieza y preparación de los datos."
   ]
  },
  {
   "cell_type": "markdown",
   "id": "3a471c82-4839-4fe5-a7ae-15e89519b0ce",
   "metadata": {},
   "source": [
    "### 2.1. Tipo adecuado de cada atributo."
   ]
  },
  {
   "cell_type": "markdown",
   "id": "48bd1769-d6d2-4fb1-bfc9-c4393dc98b77",
   "metadata": {},
   "source": [
    "Primero realizaremos el cambio de tipo de cada columna, acorde con el tipo de datos que maneja."
   ]
  },
  {
   "cell_type": "code",
   "execution_count": 197,
   "id": "1f809eef-2139-427d-bc73-91b8316f8348",
   "metadata": {},
   "outputs": [
    {
     "data": {
      "text/plain": [
       "Id                      int64\n",
       "Customer               object\n",
       "Limit_bal              object\n",
       "Sex                    object\n",
       "Education              object\n",
       "Marriage               object\n",
       "Age                    object\n",
       "Total_Credit_Cards     object\n",
       "Total_visits_bank      object\n",
       "Total_visits_online    object\n",
       "Total_calls_made       object\n",
       "dtype: object"
      ]
     },
     "execution_count": 197,
     "metadata": {},
     "output_type": "execute_result"
    }
   ],
   "source": [
    "# ver todos los tipos de variables \n",
    "df_clients.dtypes"
   ]
  },
  {
   "cell_type": "markdown",
   "id": "79fb6629-b4d7-4afa-953e-cd091d2a3c05",
   "metadata": {},
   "source": [
    "Podemos observar que casi todos los datos los identifica como `object`, entonces procederemos a cambiarlos a su tipo adecuado."
   ]
  },
  {
   "cell_type": "markdown",
   "id": "fea47cd8-fa64-41d3-bd47-1bd889c0acb4",
   "metadata": {},
   "source": [
    "Al intentar cambiar el tipo de cada columna a entero, nos arroja un error: ` ValueError: invalid literal for int() with base 10: '-' `\n",
    "Esto es debido a que existen datos o caracteres que no corresponden en la columna a cambiar, en este caso existe el caracter '-' el cual no nos permite cambiar el tipo de la columna"
   ]
  },
  {
   "cell_type": "code",
   "execution_count": 198,
   "id": "8281879d-9a2b-4fcb-9a68-30273d749251",
   "metadata": {},
   "outputs": [
    {
     "name": "stdout",
     "output_type": "stream",
     "text": [
      "    Id Customer Limit_bal     Sex Education Marriage Age Total_Credit_Cards  \\\n",
      "11  12        -    260000  Female         1        -  51                  3   \n",
      "31  32        -         -       -         -        -   -                  -   \n",
      "\n",
      "   Total_visits_bank Total_visits_online Total_calls_made  \n",
      "11                 -                   2                7  \n",
      "31                 -                   -                -  \n"
     ]
    }
   ],
   "source": [
    "# buscamos la fila con el caracter anomalo '-'\n",
    "raro = df_clients[df_clients['Customer'].str.contains('-')]\n",
    "print(raro)"
   ]
  },
  {
   "cell_type": "markdown",
   "id": "5051fe74-015c-4d62-b641-b37b17513ed0",
   "metadata": {},
   "source": [
    "Como podemos observar las filas 11 y 32  contienen varias columnas con este valor, lo cual no aporta informacion relevante para los modelos de ML y seran eliminadas"
   ]
  },
  {
   "cell_type": "code",
   "execution_count": 199,
   "id": "4e391778-7ffc-4fff-bfdc-cf2581f3a13d",
   "metadata": {},
   "outputs": [],
   "source": [
    "# eliminamos la fila que contiene '-' en la columna Customer\n",
    "df_clients = df_clients.drop(df_clients[df_clients.Customer.str.contains('-')].index)"
   ]
  },
  {
   "cell_type": "markdown",
   "id": "0d154730-c511-4a5a-a51c-164568e63ca3",
   "metadata": {},
   "source": [
    "Ahora convertimos la columna a su correspondiente tipo"
   ]
  },
  {
   "cell_type": "code",
   "execution_count": 200,
   "id": "e86fe9bf-aebe-44a8-8db1-6b3f3a79407e",
   "metadata": {},
   "outputs": [],
   "source": [
    "df_clients['Customer'] = df_clients.Customer.astype(int)\n",
    "df_clients['Limit_bal'] = df_clients.Limit_bal.astype(int)"
   ]
  },
  {
   "cell_type": "markdown",
   "id": "69ae479c-0fe9-4d73-aa0b-7bb6e072a6aa",
   "metadata": {},
   "source": [
    " Al intentar cambiar el tipo de la columna **Education** entero, nos arroja un error: ´ValueError: invalid literal for int() with base 10: 'ABC´´"
   ]
  },
  {
   "cell_type": "code",
   "execution_count": 201,
   "id": "a827fec9-75f3-4c2f-b785-57c0fee55290",
   "metadata": {},
   "outputs": [
    {
     "data": {
      "text/plain": [
       "2      288\n",
       "1      263\n",
       "3       99\n",
       "5        3\n",
       "4        2\n",
       "6        2\n",
       "ABC      1\n",
       "Name: Education, dtype: int64"
      ]
     },
     "execution_count": 201,
     "metadata": {},
     "output_type": "execute_result"
    }
   ],
   "source": [
    "#verificos el tipo de datos manejados por la columna\n",
    "df_clients.Education.value_counts()"
   ]
  },
  {
   "cell_type": "markdown",
   "id": "7fd793fd-07fa-4a0b-8a6a-71d275e6cd20",
   "metadata": {},
   "source": [
    "podemos ver que solo hay una fila con los caracteres 'ABC'"
   ]
  },
  {
   "cell_type": "code",
   "execution_count": 202,
   "id": "6d5d5c7f-5e5e-4f41-a129-61cfcebae778",
   "metadata": {},
   "outputs": [
    {
     "name": "stdout",
     "output_type": "stream",
     "text": [
      "    Id  Customer  Limit_bal    Sex Education Marriage Age Total_Credit_Cards  \\\n",
      "15  16     55196      50000  Fmale       ABC   Others  23                  2   \n",
      "\n",
      "   Total_visits_bank Total_visits_online Total_calls_made  \n",
      "15                 0                   5                7  \n"
     ]
    }
   ],
   "source": [
    "# buscamos la fila con el caracter anomalo 'ABC'\n",
    "raro2 = df_clients[df_clients['Education'].str.contains('ABC')]\n",
    "print(raro2)"
   ]
  },
  {
   "cell_type": "markdown",
   "id": "82c3530e-c918-42ee-8303-1c46dccecd8a",
   "metadata": {},
   "source": [
    "consideramos que al no tener precisión en el tipo de sexo (*Fmale*) y la educación (*ABC*), la fila sera eliminada de los datos."
   ]
  },
  {
   "cell_type": "code",
   "execution_count": 203,
   "id": "42936c19-4545-4ef1-9b8e-38e065bfd316",
   "metadata": {},
   "outputs": [],
   "source": [
    "# eliminamos la fila que contiene 'ABC' en la columna Education\n",
    "df_clients = df_clients.drop(df_clients[df_clients.Education.str.contains('ABC')].index)"
   ]
  },
  {
   "cell_type": "code",
   "execution_count": 204,
   "id": "bf84f181-b9db-4845-b194-7b6750d87fe2",
   "metadata": {},
   "outputs": [],
   "source": [
    "#Ahora convertimos la columna a su correspondiente tipo\n",
    "df_clients['Education'] = df_clients.Education.astype(int)\n",
    "df_clients['Age'] = df_clients.Age.astype(int)"
   ]
  },
  {
   "cell_type": "code",
   "execution_count": 205,
   "id": "0fbe7769-7921-42f3-a46c-bb9ab5eabc75",
   "metadata": {},
   "outputs": [
    {
     "name": "stdout",
     "output_type": "stream",
     "text": [
      "    Id  Customer  Limit_bal   Sex  Education Marriage  Age Total_Credit_Cards  \\\n",
      "17  18     96463     320000  Male          1  Married   49                  -   \n",
      "\n",
      "   Total_visits_bank Total_visits_online Total_calls_made  \n",
      "17                 0                   3                4  \n"
     ]
    }
   ],
   "source": [
    "# buscamos la fila con el caracter anomalo '-'\n",
    "raro3 = df_clients[df_clients['Total_Credit_Cards'].str.contains('-')]\n",
    "print(raro3)"
   ]
  },
  {
   "cell_type": "markdown",
   "id": "0b227a37-140e-463e-9702-448497be3556",
   "metadata": {},
   "source": [
    "Consideramos valiosa la fila y remplazamos el valor de esta por 1, debido a que existe un monto de prestamo en el registro de *Limit_bal*."
   ]
  },
  {
   "cell_type": "code",
   "execution_count": 206,
   "id": "9021732e-0fe6-43d9-8954-02878fde6a43",
   "metadata": {},
   "outputs": [
    {
     "name": "stdout",
     "output_type": "stream",
     "text": [
      "Empty DataFrame\n",
      "Columns: [Id, Customer, Limit_bal, Sex, Education, Marriage, Age, Total_Credit_Cards, Total_visits_bank, Total_visits_online, Total_calls_made]\n",
      "Index: []\n"
     ]
    }
   ],
   "source": [
    "\n",
    "df_clients.Total_Credit_Cards = df_clients.Total_Credit_Cards.replace({'-':1})\n",
    "\n",
    "#comprobamos que no exista el caracter '-' en la columna\n",
    "print( df_clients[df_clients['Total_Credit_Cards']=='-'] )\n",
    "\n",
    "#convertimos la columna en entero\n",
    "df_clients['Total_Credit_Cards'] = df_clients.Total_Credit_Cards.astype(int)\n",
    "\n"
   ]
  },
  {
   "cell_type": "code",
   "execution_count": 207,
   "id": "905f53e6-7785-4691-842e-d8b844bd182a",
   "metadata": {},
   "outputs": [
    {
     "name": "stdout",
     "output_type": "stream",
     "text": [
      "    Id  Customer  Limit_bal   Sex  Education Marriage  Age  \\\n",
      "16  17     62617      20000  Male          1   Single   24   \n",
      "38  39     52142      50000  Male          1   Single   25   \n",
      "\n",
      "    Total_Credit_Cards Total_visits_bank Total_visits_online Total_calls_made  \n",
      "16                   2                 ?                   2                4  \n",
      "38                   4                 ?                   3               10  \n"
     ]
    }
   ],
   "source": [
    "# buscamos la fila con el caracter anomalo '?'\n",
    "raro4 = df_clients[df_clients['Total_visits_bank'].str.contains('\\?')]\n",
    "print(raro4)"
   ]
  },
  {
   "cell_type": "markdown",
   "id": "cb79fb04-3d8e-4302-8b01-ee1a6ec481c1",
   "metadata": {},
   "source": [
    "Consideramos valiosa las filas y remplazamos sus valores por 1, debido a que existe la posibilidad de visitar el banco por lo menos una vez para abrir una cuenta."
   ]
  },
  {
   "cell_type": "code",
   "execution_count": 208,
   "id": "c6f7085a-4deb-4b07-8f4c-0fe9a7cdf567",
   "metadata": {},
   "outputs": [
    {
     "data": {
      "text/plain": [
       "Id                         17\n",
       "Customer                62617\n",
       "Limit_bal               20000\n",
       "Sex                      Male\n",
       "Education                   1\n",
       "Marriage               Single\n",
       "Age                        24\n",
       "Total_Credit_Cards          2\n",
       "Total_visits_bank           1\n",
       "Total_visits_online         2\n",
       "Total_calls_made            4\n",
       "Name: 16, dtype: object"
      ]
     },
     "execution_count": 208,
     "metadata": {},
     "output_type": "execute_result"
    }
   ],
   "source": [
    "df_clients.Total_visits_bank = df_clients.Total_visits_bank.replace({'?':1})\n",
    "\n",
    "#comprobamos el cambio\n",
    "df_clients.loc[16]\n"
   ]
  },
  {
   "cell_type": "code",
   "execution_count": 209,
   "id": "cce75827-7a17-44ae-baae-2e441d217b9c",
   "metadata": {},
   "outputs": [
    {
     "data": {
      "text/plain": [
       "Id                         39\n",
       "Customer                52142\n",
       "Limit_bal               50000\n",
       "Sex                      Male\n",
       "Education                   1\n",
       "Marriage               Single\n",
       "Age                        25\n",
       "Total_Credit_Cards          4\n",
       "Total_visits_bank           1\n",
       "Total_visits_online         3\n",
       "Total_calls_made           10\n",
       "Name: 38, dtype: object"
      ]
     },
     "execution_count": 209,
     "metadata": {},
     "output_type": "execute_result"
    }
   ],
   "source": [
    "#comprobamos el cambio\n",
    "df_clients.loc[38]"
   ]
  },
  {
   "cell_type": "code",
   "execution_count": 210,
   "id": "eccb5a86-15e0-447f-a0d4-d4d48deffaf0",
   "metadata": {},
   "outputs": [],
   "source": [
    "df_clients['Total_visits_bank'] = df_clients.Total_visits_bank.astype(int)\n",
    "df_clients['Total_visits_online'] = df_clients.Total_visits_online.astype(int)"
   ]
  },
  {
   "cell_type": "code",
   "execution_count": 211,
   "id": "f93fe93f-bae7-4cc0-851f-3de874ec08b5",
   "metadata": {},
   "outputs": [
    {
     "name": "stdout",
     "output_type": "stream",
     "text": [
      "   Id  Customer  Limit_bal     Sex  Education Marriage  Age  \\\n",
      "3   4     40496      50000  Female          2  Married   37   \n",
      "\n",
      "   Total_Credit_Cards  Total_visits_bank  Total_visits_online Total_calls_made  \n",
      "3                   5                  1                    1                ?  \n"
     ]
    }
   ],
   "source": [
    "# buscamos la fila con el caracter anomalo '?'\n",
    "raro5 = df_clients[df_clients['Total_calls_made'].str.contains('\\?')]\n",
    "print(raro5)"
   ]
  },
  {
   "cell_type": "markdown",
   "id": "a9717ec7-904f-49ce-85de-5cc9dda46af7",
   "metadata": {},
   "source": [
    "Consideramos valiosa la fila y remplazamos su valor por 1, debido a que solo ha realizado una vista al banco y una online."
   ]
  },
  {
   "cell_type": "code",
   "execution_count": 212,
   "id": "403e3ec4-1a42-4db0-bf95-9a1ad1d0d155",
   "metadata": {},
   "outputs": [
    {
     "data": {
      "text/plain": [
       "Id                           4\n",
       "Customer                 40496\n",
       "Limit_bal                50000\n",
       "Sex                     Female\n",
       "Education                    2\n",
       "Marriage               Married\n",
       "Age                         37\n",
       "Total_Credit_Cards           5\n",
       "Total_visits_bank            1\n",
       "Total_visits_online          1\n",
       "Total_calls_made             1\n",
       "Name: 3, dtype: object"
      ]
     },
     "execution_count": 212,
     "metadata": {},
     "output_type": "execute_result"
    }
   ],
   "source": [
    "df_clients.Total_calls_made = df_clients.Total_calls_made.replace({'?':1})\n",
    "\n",
    "#comprobamos el cambio\n",
    "df_clients.loc[3]"
   ]
  },
  {
   "cell_type": "code",
   "execution_count": 213,
   "id": "146ab9bd-dff2-4c32-8ec7-30bc2348cb26",
   "metadata": {},
   "outputs": [],
   "source": [
    "#cambiamos el tipo de la columna\n",
    "df_clients['Total_calls_made'] = df_clients.Total_calls_made.astype(int)"
   ]
  },
  {
   "cell_type": "code",
   "execution_count": 214,
   "id": "cd347a48-1574-49af-99b4-6d100b1579ea",
   "metadata": {},
   "outputs": [
    {
     "data": {
      "text/plain": [
       "Id                      int64\n",
       "Customer                int64\n",
       "Limit_bal               int64\n",
       "Sex                    object\n",
       "Education               int64\n",
       "Marriage               object\n",
       "Age                     int64\n",
       "Total_Credit_Cards      int64\n",
       "Total_visits_bank       int64\n",
       "Total_visits_online     int64\n",
       "Total_calls_made        int64\n",
       "dtype: object"
      ]
     },
     "execution_count": 214,
     "metadata": {},
     "output_type": "execute_result"
    }
   ],
   "source": [
    "#comprobamos los tipos de las columnas\n",
    "df_clients.dtypes"
   ]
  },
  {
   "cell_type": "markdown",
   "id": "3da4fdf8-18eb-4779-945f-2c8794992096",
   "metadata": {},
   "source": [
    "Ahora convertimos las columnas de *Sex* y *Marriage* en datos numericos para poder integralos al modelo."
   ]
  },
  {
   "cell_type": "code",
   "execution_count": 215,
   "id": "a49da818-3818-47f8-9bbd-70a9fdc67c86",
   "metadata": {},
   "outputs": [
    {
     "data": {
      "text/plain": [
       "Female    371\n",
       "Male      273\n",
       "M           3\n",
       "F           3\n",
       "Mael        3\n",
       "f           2\n",
       "Femael      1\n",
       "9           1\n",
       "Name: Sex, dtype: int64"
      ]
     },
     "execution_count": 215,
     "metadata": {},
     "output_type": "execute_result"
    }
   ],
   "source": [
    "#comprobamos los datos de Sex\n",
    "df_clients.Sex.value_counts()"
   ]
  },
  {
   "cell_type": "code",
   "execution_count": 216,
   "id": "741960f7-960a-429c-b0b4-342fd7bf8cf6",
   "metadata": {},
   "outputs": [
    {
     "name": "stdout",
     "output_type": "stream",
     "text": [
      "    Id  Customer  Limit_bal Sex  Education Marriage  Age  Total_Credit_Cards  \\\n",
      "70  71     21976      80000   9          1   Single   31                   1   \n",
      "\n",
      "    Total_visits_bank  Total_visits_online  Total_calls_made  \n",
      "70                  2                    4                 7  \n"
     ]
    }
   ],
   "source": [
    "# buscamos la fila con el caracter anomalo '9'\n",
    "raro6 = df_clients[df_clients['Sex'].str.contains('9')]\n",
    "print(raro6)"
   ]
  },
  {
   "cell_type": "markdown",
   "id": "e872e3cc-f740-45a4-8d77-5652d035e525",
   "metadata": {},
   "source": [
    "consideramos borrar esta fila, debido a que creemos que impactara en el modelo."
   ]
  },
  {
   "cell_type": "code",
   "execution_count": 217,
   "id": "1c6124ab-0fed-40d1-9cf2-ec5db86a29c4",
   "metadata": {},
   "outputs": [
    {
     "name": "stdout",
     "output_type": "stream",
     "text": [
      "Empty DataFrame\n",
      "Columns: [Id, Customer, Limit_bal, Sex, Education, Marriage, Age, Total_Credit_Cards, Total_visits_bank, Total_visits_online, Total_calls_made]\n",
      "Index: []\n"
     ]
    }
   ],
   "source": [
    "df_clients = df_clients.drop([70], axis=0)\n",
    "\n",
    "#comprobamos si se elimino.\n",
    "raro6 = df_clients[df_clients['Sex'].str.contains('9')]\n",
    "print(raro6)"
   ]
  },
  {
   "cell_type": "code",
   "execution_count": 218,
   "id": "3434a2be-a2ac-461c-b76c-e3f0c4c570fe",
   "metadata": {},
   "outputs": [],
   "source": [
    "#reemplazamos los M => Male\n",
    "df_clients.Sex = df_clients.Sex.replace({'M ':'Male'})\n",
    "\n",
    "#reemplazamos los F => Female\n",
    "df_clients.Sex = df_clients.Sex.replace({'F':'Female'})\n",
    "\n",
    "#reemplazamos los Mael => Male\n",
    "df_clients.Sex = df_clients.Sex.replace({'Mael':'Male'})\n",
    "\n",
    "#reemplazamos los f => Female\n",
    "df_clients.Sex = df_clients.Sex.replace({'f':'Female'})\n",
    "\n",
    "#reemplazamos los Femael => Female\n",
    "df_clients.Sex = df_clients.Sex.replace({'Femael':'Female'})"
   ]
  },
  {
   "cell_type": "code",
   "execution_count": 219,
   "id": "ce0edfa0-ec0d-4201-82ce-6a64307a08fe",
   "metadata": {},
   "outputs": [
    {
     "data": {
      "text/plain": [
       "Female    377\n",
       "Male      279\n",
       "Name: Sex, dtype: int64"
      ]
     },
     "execution_count": 219,
     "metadata": {},
     "output_type": "execute_result"
    }
   ],
   "source": [
    "#comprobamos los datos de Sex\n",
    "df_clients.Sex.value_counts()"
   ]
  },
  {
   "cell_type": "code",
   "execution_count": 220,
   "id": "78e24266-a5c4-492a-8ffc-73737ba63640",
   "metadata": {},
   "outputs": [
    {
     "data": {
      "text/plain": [
       "0    377\n",
       "1    279\n",
       "Name: Sex, dtype: int64"
      ]
     },
     "execution_count": 220,
     "metadata": {},
     "output_type": "execute_result"
    }
   ],
   "source": [
    "#mapping para la columna de sex\n",
    "sexMaping = {'Female':0,'Male':1}\n",
    "df_clients['Sex'] = df_clients['Sex'].map(sexMaping)\n",
    "\n",
    "#comprobamos el map\n",
    "df_clients.Sex.value_counts()"
   ]
  },
  {
   "cell_type": "code",
   "execution_count": 221,
   "id": "c5c3928e-7122-40b1-88b2-1efdcdea2543",
   "metadata": {},
   "outputs": [
    {
     "data": {
      "text/plain": [
       "Single     378\n",
       "Married    260\n",
       "Others       8\n",
       "1            5\n",
       "2            3\n",
       "?            1\n",
       "0            1\n",
       "Name: Marriage, dtype: int64"
      ]
     },
     "execution_count": 221,
     "metadata": {},
     "output_type": "execute_result"
    }
   ],
   "source": [
    "df_clients.Marriage.value_counts()"
   ]
  },
  {
   "cell_type": "code",
   "execution_count": 222,
   "id": "e71a668a-cf6b-476c-866e-9ef01b47ba46",
   "metadata": {},
   "outputs": [],
   "source": [
    "#reemplazamos los 1 => Others\n",
    "df_clients.Marriage = df_clients.Marriage.replace({ '1':'Others'})\n",
    "\n",
    "#reemplazamos los 2 => Others\n",
    "df_clients.Marriage = df_clients.Marriage.replace({ '2':'Others'})\n",
    "\n",
    "#reemplazamos los ? => Others\n",
    "df_clients.Marriage = df_clients.Marriage.replace({ '?':'Others'})\n",
    "\n",
    "#reemplazamos los ? => Others\n",
    "df_clients.Marriage = df_clients.Marriage.replace({ '0' :'Others'})"
   ]
  },
  {
   "cell_type": "code",
   "execution_count": 223,
   "id": "ea6550eb-0186-45e4-b812-26e19806e77c",
   "metadata": {},
   "outputs": [
    {
     "data": {
      "text/plain": [
       "Single     378\n",
       "Married    260\n",
       "Others      18\n",
       "Name: Marriage, dtype: int64"
      ]
     },
     "execution_count": 223,
     "metadata": {},
     "output_type": "execute_result"
    }
   ],
   "source": [
    "#comprobamos los cambios\n",
    "df_clients.Marriage.value_counts()"
   ]
  },
  {
   "cell_type": "code",
   "execution_count": 224,
   "id": "dff7b49d-14e6-469b-ba72-27ccb5cc398d",
   "metadata": {},
   "outputs": [
    {
     "data": {
      "text/plain": [
       "0    378\n",
       "1    260\n",
       "2     18\n",
       "Name: Marriage, dtype: int64"
      ]
     },
     "execution_count": 224,
     "metadata": {},
     "output_type": "execute_result"
    }
   ],
   "source": [
    "#mapping para la columna de sex\n",
    "MarriageMaping = {'Single':0,'Married':1,'Others':2}\n",
    "df_clients['Marriage'] = df_clients['Marriage'].map(MarriageMaping)\n",
    "\n",
    "#comprobamos el map\n",
    "df_clients.Marriage.value_counts()"
   ]
  },
  {
   "cell_type": "code",
   "execution_count": 225,
   "id": "63080b04-aac1-4b1e-b3ad-3f532128fabd",
   "metadata": {},
   "outputs": [
    {
     "data": {
      "text/html": [
       "<div>\n",
       "<style scoped>\n",
       "    .dataframe tbody tr th:only-of-type {\n",
       "        vertical-align: middle;\n",
       "    }\n",
       "\n",
       "    .dataframe tbody tr th {\n",
       "        vertical-align: top;\n",
       "    }\n",
       "\n",
       "    .dataframe thead th {\n",
       "        text-align: right;\n",
       "    }\n",
       "</style>\n",
       "<table border=\"1\" class=\"dataframe\">\n",
       "  <thead>\n",
       "    <tr style=\"text-align: right;\">\n",
       "      <th></th>\n",
       "      <th>Id</th>\n",
       "      <th>Customer</th>\n",
       "      <th>Limit_bal</th>\n",
       "      <th>Sex</th>\n",
       "      <th>Education</th>\n",
       "      <th>Marriage</th>\n",
       "      <th>Age</th>\n",
       "      <th>Total_Credit_Cards</th>\n",
       "      <th>Total_visits_bank</th>\n",
       "      <th>Total_visits_online</th>\n",
       "      <th>Total_calls_made</th>\n",
       "    </tr>\n",
       "  </thead>\n",
       "  <tbody>\n",
       "    <tr>\n",
       "      <th>count</th>\n",
       "      <td>656.000000</td>\n",
       "      <td>656.000000</td>\n",
       "      <td>656.000000</td>\n",
       "      <td>656.000000</td>\n",
       "      <td>656.000000</td>\n",
       "      <td>656.000000</td>\n",
       "      <td>656.000000</td>\n",
       "      <td>6.560000e+02</td>\n",
       "      <td>656.000000</td>\n",
       "      <td>656.000000</td>\n",
       "      <td>656.000000</td>\n",
       "    </tr>\n",
       "    <tr>\n",
       "      <th>mean</th>\n",
       "      <td>332.315549</td>\n",
       "      <td>55230.647866</td>\n",
       "      <td>170182.926829</td>\n",
       "      <td>0.425305</td>\n",
       "      <td>1.783537</td>\n",
       "      <td>0.451220</td>\n",
       "      <td>95.493902</td>\n",
       "      <td>1.882010e+05</td>\n",
       "      <td>2.413110</td>\n",
       "      <td>2.597561</td>\n",
       "      <td>3.559451</td>\n",
       "    </tr>\n",
       "    <tr>\n",
       "      <th>std</th>\n",
       "      <td>189.813037</td>\n",
       "      <td>25657.650223</td>\n",
       "      <td>129855.927499</td>\n",
       "      <td>0.494766</td>\n",
       "      <td>0.778786</td>\n",
       "      <td>0.550418</td>\n",
       "      <td>1435.931970</td>\n",
       "      <td>4.820178e+06</td>\n",
       "      <td>1.630364</td>\n",
       "      <td>2.941090</td>\n",
       "      <td>2.864812</td>\n",
       "    </tr>\n",
       "    <tr>\n",
       "      <th>min</th>\n",
       "      <td>1.000000</td>\n",
       "      <td>11265.000000</td>\n",
       "      <td>10000.000000</td>\n",
       "      <td>0.000000</td>\n",
       "      <td>1.000000</td>\n",
       "      <td>0.000000</td>\n",
       "      <td>21.000000</td>\n",
       "      <td>1.000000e+00</td>\n",
       "      <td>0.000000</td>\n",
       "      <td>0.000000</td>\n",
       "      <td>0.000000</td>\n",
       "    </tr>\n",
       "    <tr>\n",
       "      <th>25%</th>\n",
       "      <td>168.750000</td>\n",
       "      <td>33952.500000</td>\n",
       "      <td>50000.000000</td>\n",
       "      <td>0.000000</td>\n",
       "      <td>1.000000</td>\n",
       "      <td>0.000000</td>\n",
       "      <td>28.000000</td>\n",
       "      <td>3.000000e+00</td>\n",
       "      <td>1.000000</td>\n",
       "      <td>1.000000</td>\n",
       "      <td>1.000000</td>\n",
       "    </tr>\n",
       "    <tr>\n",
       "      <th>50%</th>\n",
       "      <td>332.500000</td>\n",
       "      <td>53907.000000</td>\n",
       "      <td>140000.000000</td>\n",
       "      <td>0.000000</td>\n",
       "      <td>2.000000</td>\n",
       "      <td>0.000000</td>\n",
       "      <td>33.500000</td>\n",
       "      <td>5.000000e+00</td>\n",
       "      <td>2.000000</td>\n",
       "      <td>2.000000</td>\n",
       "      <td>3.000000</td>\n",
       "    </tr>\n",
       "    <tr>\n",
       "      <th>75%</th>\n",
       "      <td>496.250000</td>\n",
       "      <td>77439.000000</td>\n",
       "      <td>240000.000000</td>\n",
       "      <td>1.000000</td>\n",
       "      <td>2.000000</td>\n",
       "      <td>1.000000</td>\n",
       "      <td>41.000000</td>\n",
       "      <td>6.000000e+00</td>\n",
       "      <td>4.000000</td>\n",
       "      <td>4.000000</td>\n",
       "      <td>5.000000</td>\n",
       "    </tr>\n",
       "    <tr>\n",
       "      <th>max</th>\n",
       "      <td>660.000000</td>\n",
       "      <td>99843.000000</td>\n",
       "      <td>630000.000000</td>\n",
       "      <td>1.000000</td>\n",
       "      <td>6.000000</td>\n",
       "      <td>2.000000</td>\n",
       "      <td>36745.000000</td>\n",
       "      <td>1.234568e+08</td>\n",
       "      <td>5.000000</td>\n",
       "      <td>15.000000</td>\n",
       "      <td>10.000000</td>\n",
       "    </tr>\n",
       "  </tbody>\n",
       "</table>\n",
       "</div>"
      ],
      "text/plain": [
       "               Id      Customer      Limit_bal         Sex   Education  \\\n",
       "count  656.000000    656.000000     656.000000  656.000000  656.000000   \n",
       "mean   332.315549  55230.647866  170182.926829    0.425305    1.783537   \n",
       "std    189.813037  25657.650223  129855.927499    0.494766    0.778786   \n",
       "min      1.000000  11265.000000   10000.000000    0.000000    1.000000   \n",
       "25%    168.750000  33952.500000   50000.000000    0.000000    1.000000   \n",
       "50%    332.500000  53907.000000  140000.000000    0.000000    2.000000   \n",
       "75%    496.250000  77439.000000  240000.000000    1.000000    2.000000   \n",
       "max    660.000000  99843.000000  630000.000000    1.000000    6.000000   \n",
       "\n",
       "         Marriage           Age  Total_Credit_Cards  Total_visits_bank  \\\n",
       "count  656.000000    656.000000        6.560000e+02         656.000000   \n",
       "mean     0.451220     95.493902        1.882010e+05           2.413110   \n",
       "std      0.550418   1435.931970        4.820178e+06           1.630364   \n",
       "min      0.000000     21.000000        1.000000e+00           0.000000   \n",
       "25%      0.000000     28.000000        3.000000e+00           1.000000   \n",
       "50%      0.000000     33.500000        5.000000e+00           2.000000   \n",
       "75%      1.000000     41.000000        6.000000e+00           4.000000   \n",
       "max      2.000000  36745.000000        1.234568e+08           5.000000   \n",
       "\n",
       "       Total_visits_online  Total_calls_made  \n",
       "count           656.000000        656.000000  \n",
       "mean              2.597561          3.559451  \n",
       "std               2.941090          2.864812  \n",
       "min               0.000000          0.000000  \n",
       "25%               1.000000          1.000000  \n",
       "50%               2.000000          3.000000  \n",
       "75%               4.000000          5.000000  \n",
       "max              15.000000         10.000000  "
      ]
     },
     "execution_count": 225,
     "metadata": {},
     "output_type": "execute_result"
    }
   ],
   "source": [
    "#Finalmente las estadisiticas descriptivas.\n",
    "df_clients.describe()"
   ]
  },
  {
   "cell_type": "markdown",
   "id": "d059b999-f1b2-469f-a48c-0e0681cbd6be",
   "metadata": {},
   "source": [
    "### 2.2. Selección de atributos."
   ]
  },
  {
   "cell_type": "markdown",
   "id": "40ce4fbf-acfa-4630-b1af-c0428117fce6",
   "metadata": {},
   "source": [
    "En este punto deseamos conocer cuales son las columnas más importantes para nuestro modelo, aquellas que aporten valor y sirvan para crear modelos más precisos y exactos. Para este punto necesitamos conocimiento sobre cada atributo y como este podria impactar en la prediccion del modelo."
   ]
  },
  {
   "cell_type": "markdown",
   "id": "c3b29087-a889-4115-a4e1-22ff5e259bfe",
   "metadata": {},
   "source": [
    "Eliminamos las columnas de **Id** y de **Customer** al no aportar nada para el rendimiento del modelo"
   ]
  },
  {
   "cell_type": "code",
   "execution_count": 226,
   "id": "a244af2e-479e-4539-8bf8-c9819fa914ce",
   "metadata": {},
   "outputs": [],
   "source": [
    "df_clients_A = df_clients\n",
    "del df_clients_A['Id']\n",
    "del df_clients_A['Customer']"
   ]
  },
  {
   "cell_type": "code",
   "execution_count": 227,
   "id": "67c6f409-4fa1-45e0-9ee2-90bfe2357492",
   "metadata": {},
   "outputs": [
    {
     "data": {
      "text/plain": [
       "Limit_bal              int64\n",
       "Sex                    int64\n",
       "Education              int64\n",
       "Marriage               int64\n",
       "Age                    int64\n",
       "Total_Credit_Cards     int64\n",
       "Total_visits_bank      int64\n",
       "Total_visits_online    int64\n",
       "Total_calls_made       int64\n",
       "dtype: object"
      ]
     },
     "execution_count": 227,
     "metadata": {},
     "output_type": "execute_result"
    }
   ],
   "source": [
    "#comprobamos la eliminacion\n",
    "df_clients_A.dtypes"
   ]
  },
  {
   "cell_type": "code",
   "execution_count": 228,
   "id": "2c6e86c2-30ac-4b00-a95b-b009969bd24e",
   "metadata": {},
   "outputs": [
    {
     "data": {
      "text/html": [
       "<div>\n",
       "<style scoped>\n",
       "    .dataframe tbody tr th:only-of-type {\n",
       "        vertical-align: middle;\n",
       "    }\n",
       "\n",
       "    .dataframe tbody tr th {\n",
       "        vertical-align: top;\n",
       "    }\n",
       "\n",
       "    .dataframe thead th {\n",
       "        text-align: right;\n",
       "    }\n",
       "</style>\n",
       "<table border=\"1\" class=\"dataframe\">\n",
       "  <thead>\n",
       "    <tr style=\"text-align: right;\">\n",
       "      <th></th>\n",
       "      <th>Limit_bal</th>\n",
       "      <th>Sex</th>\n",
       "      <th>Education</th>\n",
       "      <th>Marriage</th>\n",
       "      <th>Age</th>\n",
       "      <th>Total_Credit_Cards</th>\n",
       "      <th>Total_visits_bank</th>\n",
       "      <th>Total_visits_online</th>\n",
       "      <th>Total_calls_made</th>\n",
       "    </tr>\n",
       "  </thead>\n",
       "  <tbody>\n",
       "    <tr>\n",
       "      <th>count</th>\n",
       "      <td>656.000000</td>\n",
       "      <td>656.000000</td>\n",
       "      <td>656.000000</td>\n",
       "      <td>656.000000</td>\n",
       "      <td>656.000000</td>\n",
       "      <td>6.560000e+02</td>\n",
       "      <td>656.000000</td>\n",
       "      <td>656.000000</td>\n",
       "      <td>656.000000</td>\n",
       "    </tr>\n",
       "    <tr>\n",
       "      <th>mean</th>\n",
       "      <td>170182.926829</td>\n",
       "      <td>0.425305</td>\n",
       "      <td>1.783537</td>\n",
       "      <td>0.451220</td>\n",
       "      <td>95.493902</td>\n",
       "      <td>1.882010e+05</td>\n",
       "      <td>2.413110</td>\n",
       "      <td>2.597561</td>\n",
       "      <td>3.559451</td>\n",
       "    </tr>\n",
       "    <tr>\n",
       "      <th>std</th>\n",
       "      <td>129855.927499</td>\n",
       "      <td>0.494766</td>\n",
       "      <td>0.778786</td>\n",
       "      <td>0.550418</td>\n",
       "      <td>1435.931970</td>\n",
       "      <td>4.820178e+06</td>\n",
       "      <td>1.630364</td>\n",
       "      <td>2.941090</td>\n",
       "      <td>2.864812</td>\n",
       "    </tr>\n",
       "    <tr>\n",
       "      <th>min</th>\n",
       "      <td>10000.000000</td>\n",
       "      <td>0.000000</td>\n",
       "      <td>1.000000</td>\n",
       "      <td>0.000000</td>\n",
       "      <td>21.000000</td>\n",
       "      <td>1.000000e+00</td>\n",
       "      <td>0.000000</td>\n",
       "      <td>0.000000</td>\n",
       "      <td>0.000000</td>\n",
       "    </tr>\n",
       "    <tr>\n",
       "      <th>25%</th>\n",
       "      <td>50000.000000</td>\n",
       "      <td>0.000000</td>\n",
       "      <td>1.000000</td>\n",
       "      <td>0.000000</td>\n",
       "      <td>28.000000</td>\n",
       "      <td>3.000000e+00</td>\n",
       "      <td>1.000000</td>\n",
       "      <td>1.000000</td>\n",
       "      <td>1.000000</td>\n",
       "    </tr>\n",
       "    <tr>\n",
       "      <th>50%</th>\n",
       "      <td>140000.000000</td>\n",
       "      <td>0.000000</td>\n",
       "      <td>2.000000</td>\n",
       "      <td>0.000000</td>\n",
       "      <td>33.500000</td>\n",
       "      <td>5.000000e+00</td>\n",
       "      <td>2.000000</td>\n",
       "      <td>2.000000</td>\n",
       "      <td>3.000000</td>\n",
       "    </tr>\n",
       "    <tr>\n",
       "      <th>75%</th>\n",
       "      <td>240000.000000</td>\n",
       "      <td>1.000000</td>\n",
       "      <td>2.000000</td>\n",
       "      <td>1.000000</td>\n",
       "      <td>41.000000</td>\n",
       "      <td>6.000000e+00</td>\n",
       "      <td>4.000000</td>\n",
       "      <td>4.000000</td>\n",
       "      <td>5.000000</td>\n",
       "    </tr>\n",
       "    <tr>\n",
       "      <th>max</th>\n",
       "      <td>630000.000000</td>\n",
       "      <td>1.000000</td>\n",
       "      <td>6.000000</td>\n",
       "      <td>2.000000</td>\n",
       "      <td>36745.000000</td>\n",
       "      <td>1.234568e+08</td>\n",
       "      <td>5.000000</td>\n",
       "      <td>15.000000</td>\n",
       "      <td>10.000000</td>\n",
       "    </tr>\n",
       "  </tbody>\n",
       "</table>\n",
       "</div>"
      ],
      "text/plain": [
       "           Limit_bal         Sex   Education    Marriage           Age  \\\n",
       "count     656.000000  656.000000  656.000000  656.000000    656.000000   \n",
       "mean   170182.926829    0.425305    1.783537    0.451220     95.493902   \n",
       "std    129855.927499    0.494766    0.778786    0.550418   1435.931970   \n",
       "min     10000.000000    0.000000    1.000000    0.000000     21.000000   \n",
       "25%     50000.000000    0.000000    1.000000    0.000000     28.000000   \n",
       "50%    140000.000000    0.000000    2.000000    0.000000     33.500000   \n",
       "75%    240000.000000    1.000000    2.000000    1.000000     41.000000   \n",
       "max    630000.000000    1.000000    6.000000    2.000000  36745.000000   \n",
       "\n",
       "       Total_Credit_Cards  Total_visits_bank  Total_visits_online  \\\n",
       "count        6.560000e+02         656.000000           656.000000   \n",
       "mean         1.882010e+05           2.413110             2.597561   \n",
       "std          4.820178e+06           1.630364             2.941090   \n",
       "min          1.000000e+00           0.000000             0.000000   \n",
       "25%          3.000000e+00           1.000000             1.000000   \n",
       "50%          5.000000e+00           2.000000             2.000000   \n",
       "75%          6.000000e+00           4.000000             4.000000   \n",
       "max          1.234568e+08           5.000000            15.000000   \n",
       "\n",
       "       Total_calls_made  \n",
       "count        656.000000  \n",
       "mean           3.559451  \n",
       "std            2.864812  \n",
       "min            0.000000  \n",
       "25%            1.000000  \n",
       "50%            3.000000  \n",
       "75%            5.000000  \n",
       "max           10.000000  "
      ]
     },
     "execution_count": 228,
     "metadata": {},
     "output_type": "execute_result"
    }
   ],
   "source": [
    "# verificamos los rangos\n",
    "df_clients_A.describe()"
   ]
  },
  {
   "cell_type": "markdown",
   "id": "71f848d1-5dd5-4467-8b2c-8a475ec4fe76",
   "metadata": {},
   "source": [
    "Encontramos anomalias en las columnas de **Age** y de **Total_Credit_Cards**"
   ]
  },
  {
   "cell_type": "code",
   "execution_count": 229,
   "id": "480bf5ff-8124-434c-8a60-80f962b93df7",
   "metadata": {},
   "outputs": [
    {
     "data": {
      "text/html": [
       "<div>\n",
       "<style scoped>\n",
       "    .dataframe tbody tr th:only-of-type {\n",
       "        vertical-align: middle;\n",
       "    }\n",
       "\n",
       "    .dataframe tbody tr th {\n",
       "        vertical-align: top;\n",
       "    }\n",
       "\n",
       "    .dataframe thead th {\n",
       "        text-align: right;\n",
       "    }\n",
       "</style>\n",
       "<table border=\"1\" class=\"dataframe\">\n",
       "  <thead>\n",
       "    <tr style=\"text-align: right;\">\n",
       "      <th></th>\n",
       "      <th>Limit_bal</th>\n",
       "      <th>Sex</th>\n",
       "      <th>Education</th>\n",
       "      <th>Marriage</th>\n",
       "      <th>Age</th>\n",
       "      <th>Total_Credit_Cards</th>\n",
       "      <th>Total_visits_bank</th>\n",
       "      <th>Total_visits_online</th>\n",
       "      <th>Total_calls_made</th>\n",
       "    </tr>\n",
       "  </thead>\n",
       "  <tbody>\n",
       "    <tr>\n",
       "      <th>42</th>\n",
       "      <td>10000</td>\n",
       "      <td>1</td>\n",
       "      <td>2</td>\n",
       "      <td>0</td>\n",
       "      <td>2202</td>\n",
       "      <td>4</td>\n",
       "      <td>2</td>\n",
       "      <td>3</td>\n",
       "      <td>4</td>\n",
       "    </tr>\n",
       "    <tr>\n",
       "      <th>46</th>\n",
       "      <td>20000</td>\n",
       "      <td>0</td>\n",
       "      <td>1</td>\n",
       "      <td>0</td>\n",
       "      <td>36745</td>\n",
       "      <td>1</td>\n",
       "      <td>2</td>\n",
       "      <td>2</td>\n",
       "      <td>5</td>\n",
       "    </tr>\n",
       "    <tr>\n",
       "      <th>50</th>\n",
       "      <td>70000</td>\n",
       "      <td>1</td>\n",
       "      <td>3</td>\n",
       "      <td>2</td>\n",
       "      <td>789</td>\n",
       "      <td>1</td>\n",
       "      <td>0</td>\n",
       "      <td>5</td>\n",
       "      <td>9</td>\n",
       "    </tr>\n",
       "  </tbody>\n",
       "</table>\n",
       "</div>"
      ],
      "text/plain": [
       "    Limit_bal  Sex  Education  Marriage    Age  Total_Credit_Cards  \\\n",
       "42      10000    1          2         0   2202                   4   \n",
       "46      20000    0          1         0  36745                   1   \n",
       "50      70000    1          3         2    789                   1   \n",
       "\n",
       "    Total_visits_bank  Total_visits_online  Total_calls_made  \n",
       "42                  2                    3                 4  \n",
       "46                  2                    2                 5  \n",
       "50                  0                    5                 9  "
      ]
     },
     "execution_count": 229,
     "metadata": {},
     "output_type": "execute_result"
    }
   ],
   "source": [
    "df_clients_A[ df_clients_A['Age'] > 130 ]"
   ]
  },
  {
   "cell_type": "markdown",
   "id": "272dd430-d609-4bb8-be30-b40d168bb548",
   "metadata": {},
   "source": [
    "Consideramos eliminar estas filas, debido a que desconocemos la edad real. Debido a que estas pueden impactar en el rendimiento del modelo."
   ]
  },
  {
   "cell_type": "code",
   "execution_count": 230,
   "id": "e9899b99-14b1-4613-8cc8-a0d1c600cc4f",
   "metadata": {},
   "outputs": [
    {
     "data": {
      "text/html": [
       "<div>\n",
       "<style scoped>\n",
       "    .dataframe tbody tr th:only-of-type {\n",
       "        vertical-align: middle;\n",
       "    }\n",
       "\n",
       "    .dataframe tbody tr th {\n",
       "        vertical-align: top;\n",
       "    }\n",
       "\n",
       "    .dataframe thead th {\n",
       "        text-align: right;\n",
       "    }\n",
       "</style>\n",
       "<table border=\"1\" class=\"dataframe\">\n",
       "  <thead>\n",
       "    <tr style=\"text-align: right;\">\n",
       "      <th></th>\n",
       "      <th>Limit_bal</th>\n",
       "      <th>Sex</th>\n",
       "      <th>Education</th>\n",
       "      <th>Marriage</th>\n",
       "      <th>Age</th>\n",
       "      <th>Total_Credit_Cards</th>\n",
       "      <th>Total_visits_bank</th>\n",
       "      <th>Total_visits_online</th>\n",
       "      <th>Total_calls_made</th>\n",
       "    </tr>\n",
       "  </thead>\n",
       "  <tbody>\n",
       "  </tbody>\n",
       "</table>\n",
       "</div>"
      ],
      "text/plain": [
       "Empty DataFrame\n",
       "Columns: [Limit_bal, Sex, Education, Marriage, Age, Total_Credit_Cards, Total_visits_bank, Total_visits_online, Total_calls_made]\n",
       "Index: []"
      ]
     },
     "execution_count": 230,
     "metadata": {},
     "output_type": "execute_result"
    }
   ],
   "source": [
    "df_clients_A = df_clients_A.drop([42,46,50], axis=0)\n",
    "\n",
    "#comprobamos\n",
    "df_clients_A[ df_clients_A['Age'] > 130 ]\n"
   ]
  },
  {
   "cell_type": "code",
   "execution_count": 233,
   "id": "18c580ca-3278-4873-a394-8058d63a2084",
   "metadata": {},
   "outputs": [
    {
     "data": {
      "text/html": [
       "<div>\n",
       "<style scoped>\n",
       "    .dataframe tbody tr th:only-of-type {\n",
       "        vertical-align: middle;\n",
       "    }\n",
       "\n",
       "    .dataframe tbody tr th {\n",
       "        vertical-align: top;\n",
       "    }\n",
       "\n",
       "    .dataframe thead th {\n",
       "        text-align: right;\n",
       "    }\n",
       "</style>\n",
       "<table border=\"1\" class=\"dataframe\">\n",
       "  <thead>\n",
       "    <tr style=\"text-align: right;\">\n",
       "      <th></th>\n",
       "      <th>Limit_bal</th>\n",
       "      <th>Sex</th>\n",
       "      <th>Education</th>\n",
       "      <th>Marriage</th>\n",
       "      <th>Age</th>\n",
       "      <th>Total_Credit_Cards</th>\n",
       "      <th>Total_visits_bank</th>\n",
       "      <th>Total_visits_online</th>\n",
       "      <th>Total_calls_made</th>\n",
       "    </tr>\n",
       "  </thead>\n",
       "  <tbody>\n",
       "    <tr>\n",
       "      <th>74</th>\n",
       "      <td>340000</td>\n",
       "      <td>1</td>\n",
       "      <td>1</td>\n",
       "      <td>0</td>\n",
       "      <td>32</td>\n",
       "      <td>123456789</td>\n",
       "      <td>0</td>\n",
       "      <td>5</td>\n",
       "      <td>8</td>\n",
       "    </tr>\n",
       "  </tbody>\n",
       "</table>\n",
       "</div>"
      ],
      "text/plain": [
       "    Limit_bal  Sex  Education  Marriage  Age  Total_Credit_Cards  \\\n",
       "74     340000    1          1         0   32           123456789   \n",
       "\n",
       "    Total_visits_bank  Total_visits_online  Total_calls_made  \n",
       "74                  0                    5                 8  "
      ]
     },
     "execution_count": 233,
     "metadata": {},
     "output_type": "execute_result"
    }
   ],
   "source": [
    "df_clients_A[ df_clients_A['Total_Credit_Cards'] > 10 ]"
   ]
  },
  {
   "cell_type": "code",
   "execution_count": 234,
   "id": "be862203-2c6e-478d-b585-aff4513ca16c",
   "metadata": {},
   "outputs": [
    {
     "data": {
      "text/html": [
       "<div>\n",
       "<style scoped>\n",
       "    .dataframe tbody tr th:only-of-type {\n",
       "        vertical-align: middle;\n",
       "    }\n",
       "\n",
       "    .dataframe tbody tr th {\n",
       "        vertical-align: top;\n",
       "    }\n",
       "\n",
       "    .dataframe thead th {\n",
       "        text-align: right;\n",
       "    }\n",
       "</style>\n",
       "<table border=\"1\" class=\"dataframe\">\n",
       "  <thead>\n",
       "    <tr style=\"text-align: right;\">\n",
       "      <th></th>\n",
       "      <th>Limit_bal</th>\n",
       "      <th>Sex</th>\n",
       "      <th>Education</th>\n",
       "      <th>Marriage</th>\n",
       "      <th>Age</th>\n",
       "      <th>Total_Credit_Cards</th>\n",
       "      <th>Total_visits_bank</th>\n",
       "      <th>Total_visits_online</th>\n",
       "      <th>Total_calls_made</th>\n",
       "    </tr>\n",
       "  </thead>\n",
       "  <tbody>\n",
       "  </tbody>\n",
       "</table>\n",
       "</div>"
      ],
      "text/plain": [
       "Empty DataFrame\n",
       "Columns: [Limit_bal, Sex, Education, Marriage, Age, Total_Credit_Cards, Total_visits_bank, Total_visits_online, Total_calls_made]\n",
       "Index: []"
      ]
     },
     "execution_count": 234,
     "metadata": {},
     "output_type": "execute_result"
    }
   ],
   "source": [
    "#eliminamos la fila debido al numero anormal de tarjtas de credito\n",
    "df_clients_A = df_clients_A.drop([74], axis=0)\n",
    "\n",
    "#comprobamos\n",
    "df_clients_A[ df_clients_A['Total_Credit_Cards'] > 10 ]"
   ]
  },
  {
   "cell_type": "code",
   "execution_count": 235,
   "id": "8306e40f-77f9-4fba-82b6-2cc7ac673f91",
   "metadata": {},
   "outputs": [
    {
     "data": {
      "text/html": [
       "<div>\n",
       "<style scoped>\n",
       "    .dataframe tbody tr th:only-of-type {\n",
       "        vertical-align: middle;\n",
       "    }\n",
       "\n",
       "    .dataframe tbody tr th {\n",
       "        vertical-align: top;\n",
       "    }\n",
       "\n",
       "    .dataframe thead th {\n",
       "        text-align: right;\n",
       "    }\n",
       "</style>\n",
       "<table border=\"1\" class=\"dataframe\">\n",
       "  <thead>\n",
       "    <tr style=\"text-align: right;\">\n",
       "      <th></th>\n",
       "      <th>Limit_bal</th>\n",
       "      <th>Sex</th>\n",
       "      <th>Education</th>\n",
       "      <th>Marriage</th>\n",
       "      <th>Age</th>\n",
       "      <th>Total_Credit_Cards</th>\n",
       "      <th>Total_visits_bank</th>\n",
       "      <th>Total_visits_online</th>\n",
       "      <th>Total_calls_made</th>\n",
       "    </tr>\n",
       "  </thead>\n",
       "  <tbody>\n",
       "    <tr>\n",
       "      <th>count</th>\n",
       "      <td>652.000000</td>\n",
       "      <td>652.000000</td>\n",
       "      <td>652.000000</td>\n",
       "      <td>652.000000</td>\n",
       "      <td>652.000000</td>\n",
       "      <td>652.000000</td>\n",
       "      <td>652.000000</td>\n",
       "      <td>652.000000</td>\n",
       "      <td>652.000000</td>\n",
       "    </tr>\n",
       "    <tr>\n",
       "      <th>mean</th>\n",
       "      <td>170552.147239</td>\n",
       "      <td>0.423313</td>\n",
       "      <td>1.783742</td>\n",
       "      <td>0.450920</td>\n",
       "      <td>35.085890</td>\n",
       "      <td>4.736196</td>\n",
       "      <td>2.421779</td>\n",
       "      <td>2.590491</td>\n",
       "      <td>3.541411</td>\n",
       "    </tr>\n",
       "    <tr>\n",
       "      <th>std</th>\n",
       "      <td>129739.199740</td>\n",
       "      <td>0.494463</td>\n",
       "      <td>0.778462</td>\n",
       "      <td>0.547904</td>\n",
       "      <td>9.359618</td>\n",
       "      <td>2.161180</td>\n",
       "      <td>1.629703</td>\n",
       "      <td>2.946961</td>\n",
       "      <td>2.859721</td>\n",
       "    </tr>\n",
       "    <tr>\n",
       "      <th>min</th>\n",
       "      <td>10000.000000</td>\n",
       "      <td>0.000000</td>\n",
       "      <td>1.000000</td>\n",
       "      <td>0.000000</td>\n",
       "      <td>21.000000</td>\n",
       "      <td>1.000000</td>\n",
       "      <td>0.000000</td>\n",
       "      <td>0.000000</td>\n",
       "      <td>0.000000</td>\n",
       "    </tr>\n",
       "    <tr>\n",
       "      <th>25%</th>\n",
       "      <td>57500.000000</td>\n",
       "      <td>0.000000</td>\n",
       "      <td>1.000000</td>\n",
       "      <td>0.000000</td>\n",
       "      <td>28.000000</td>\n",
       "      <td>3.000000</td>\n",
       "      <td>1.000000</td>\n",
       "      <td>1.000000</td>\n",
       "      <td>1.000000</td>\n",
       "    </tr>\n",
       "    <tr>\n",
       "      <th>50%</th>\n",
       "      <td>140000.000000</td>\n",
       "      <td>0.000000</td>\n",
       "      <td>2.000000</td>\n",
       "      <td>0.000000</td>\n",
       "      <td>33.000000</td>\n",
       "      <td>5.000000</td>\n",
       "      <td>2.000000</td>\n",
       "      <td>2.000000</td>\n",
       "      <td>3.000000</td>\n",
       "    </tr>\n",
       "    <tr>\n",
       "      <th>75%</th>\n",
       "      <td>240000.000000</td>\n",
       "      <td>1.000000</td>\n",
       "      <td>2.000000</td>\n",
       "      <td>1.000000</td>\n",
       "      <td>41.000000</td>\n",
       "      <td>6.000000</td>\n",
       "      <td>4.000000</td>\n",
       "      <td>4.000000</td>\n",
       "      <td>5.000000</td>\n",
       "    </tr>\n",
       "    <tr>\n",
       "      <th>max</th>\n",
       "      <td>630000.000000</td>\n",
       "      <td>1.000000</td>\n",
       "      <td>6.000000</td>\n",
       "      <td>2.000000</td>\n",
       "      <td>75.000000</td>\n",
       "      <td>10.000000</td>\n",
       "      <td>5.000000</td>\n",
       "      <td>15.000000</td>\n",
       "      <td>10.000000</td>\n",
       "    </tr>\n",
       "  </tbody>\n",
       "</table>\n",
       "</div>"
      ],
      "text/plain": [
       "           Limit_bal         Sex   Education    Marriage         Age  \\\n",
       "count     652.000000  652.000000  652.000000  652.000000  652.000000   \n",
       "mean   170552.147239    0.423313    1.783742    0.450920   35.085890   \n",
       "std    129739.199740    0.494463    0.778462    0.547904    9.359618   \n",
       "min     10000.000000    0.000000    1.000000    0.000000   21.000000   \n",
       "25%     57500.000000    0.000000    1.000000    0.000000   28.000000   \n",
       "50%    140000.000000    0.000000    2.000000    0.000000   33.000000   \n",
       "75%    240000.000000    1.000000    2.000000    1.000000   41.000000   \n",
       "max    630000.000000    1.000000    6.000000    2.000000   75.000000   \n",
       "\n",
       "       Total_Credit_Cards  Total_visits_bank  Total_visits_online  \\\n",
       "count          652.000000         652.000000           652.000000   \n",
       "mean             4.736196           2.421779             2.590491   \n",
       "std              2.161180           1.629703             2.946961   \n",
       "min              1.000000           0.000000             0.000000   \n",
       "25%              3.000000           1.000000             1.000000   \n",
       "50%              5.000000           2.000000             2.000000   \n",
       "75%              6.000000           4.000000             4.000000   \n",
       "max             10.000000           5.000000            15.000000   \n",
       "\n",
       "       Total_calls_made  \n",
       "count        652.000000  \n",
       "mean           3.541411  \n",
       "std            2.859721  \n",
       "min            0.000000  \n",
       "25%            1.000000  \n",
       "50%            3.000000  \n",
       "75%            5.000000  \n",
       "max           10.000000  "
      ]
     },
     "execution_count": 235,
     "metadata": {},
     "output_type": "execute_result"
    }
   ],
   "source": [
    "# verificamos los rangos\n",
    "df_clients_A.describe()"
   ]
  },
  {
   "cell_type": "markdown",
   "id": "7a37ed5e-a81f-44b2-9ba3-4e2ecde92e71",
   "metadata": {},
   "source": [
    "Tambien encontramos que **Education** es mejor manejar los tipos de *5=unknown* y *6=unknown*. como un solo digito que es el 4=others"
   ]
  },
  {
   "cell_type": "code",
   "execution_count": 236,
   "id": "6199befe-bbf3-4be4-980f-f3980f018cb3",
   "metadata": {},
   "outputs": [
    {
     "data": {
      "text/plain": [
       "2    287\n",
       "1    260\n",
       "3     98\n",
       "4      7\n",
       "Name: Education, dtype: int64"
      ]
     },
     "execution_count": 236,
     "metadata": {},
     "output_type": "execute_result"
    }
   ],
   "source": [
    "#reemplazamos 5 y 6 => 4\n",
    "df_clients_A.Education = df_clients_A.Education.replace({5:4,6:4})\n",
    "\n",
    "#comprobamos\n",
    "df_clients_A.Education.value_counts()"
   ]
  },
  {
   "cell_type": "code",
   "execution_count": 237,
   "id": "3f400dc1-6136-4b72-a371-ac3520bad8ba",
   "metadata": {},
   "outputs": [
    {
     "data": {
      "text/html": [
       "<div>\n",
       "<style scoped>\n",
       "    .dataframe tbody tr th:only-of-type {\n",
       "        vertical-align: middle;\n",
       "    }\n",
       "\n",
       "    .dataframe tbody tr th {\n",
       "        vertical-align: top;\n",
       "    }\n",
       "\n",
       "    .dataframe thead th {\n",
       "        text-align: right;\n",
       "    }\n",
       "</style>\n",
       "<table border=\"1\" class=\"dataframe\">\n",
       "  <thead>\n",
       "    <tr style=\"text-align: right;\">\n",
       "      <th></th>\n",
       "      <th>Limit_bal</th>\n",
       "      <th>Sex</th>\n",
       "      <th>Education</th>\n",
       "      <th>Marriage</th>\n",
       "      <th>Age</th>\n",
       "      <th>Total_Credit_Cards</th>\n",
       "      <th>Total_visits_bank</th>\n",
       "      <th>Total_visits_online</th>\n",
       "      <th>Total_calls_made</th>\n",
       "    </tr>\n",
       "  </thead>\n",
       "  <tbody>\n",
       "    <tr>\n",
       "      <th>count</th>\n",
       "      <td>652.000000</td>\n",
       "      <td>652.000000</td>\n",
       "      <td>652.000000</td>\n",
       "      <td>652.000000</td>\n",
       "      <td>652.000000</td>\n",
       "      <td>652.000000</td>\n",
       "      <td>652.000000</td>\n",
       "      <td>652.000000</td>\n",
       "      <td>652.000000</td>\n",
       "    </tr>\n",
       "    <tr>\n",
       "      <th>mean</th>\n",
       "      <td>170552.147239</td>\n",
       "      <td>0.423313</td>\n",
       "      <td>1.773006</td>\n",
       "      <td>0.450920</td>\n",
       "      <td>35.085890</td>\n",
       "      <td>4.736196</td>\n",
       "      <td>2.421779</td>\n",
       "      <td>2.590491</td>\n",
       "      <td>3.541411</td>\n",
       "    </tr>\n",
       "    <tr>\n",
       "      <th>std</th>\n",
       "      <td>129739.199740</td>\n",
       "      <td>0.494463</td>\n",
       "      <td>0.735750</td>\n",
       "      <td>0.547904</td>\n",
       "      <td>9.359618</td>\n",
       "      <td>2.161180</td>\n",
       "      <td>1.629703</td>\n",
       "      <td>2.946961</td>\n",
       "      <td>2.859721</td>\n",
       "    </tr>\n",
       "    <tr>\n",
       "      <th>min</th>\n",
       "      <td>10000.000000</td>\n",
       "      <td>0.000000</td>\n",
       "      <td>1.000000</td>\n",
       "      <td>0.000000</td>\n",
       "      <td>21.000000</td>\n",
       "      <td>1.000000</td>\n",
       "      <td>0.000000</td>\n",
       "      <td>0.000000</td>\n",
       "      <td>0.000000</td>\n",
       "    </tr>\n",
       "    <tr>\n",
       "      <th>25%</th>\n",
       "      <td>57500.000000</td>\n",
       "      <td>0.000000</td>\n",
       "      <td>1.000000</td>\n",
       "      <td>0.000000</td>\n",
       "      <td>28.000000</td>\n",
       "      <td>3.000000</td>\n",
       "      <td>1.000000</td>\n",
       "      <td>1.000000</td>\n",
       "      <td>1.000000</td>\n",
       "    </tr>\n",
       "    <tr>\n",
       "      <th>50%</th>\n",
       "      <td>140000.000000</td>\n",
       "      <td>0.000000</td>\n",
       "      <td>2.000000</td>\n",
       "      <td>0.000000</td>\n",
       "      <td>33.000000</td>\n",
       "      <td>5.000000</td>\n",
       "      <td>2.000000</td>\n",
       "      <td>2.000000</td>\n",
       "      <td>3.000000</td>\n",
       "    </tr>\n",
       "    <tr>\n",
       "      <th>75%</th>\n",
       "      <td>240000.000000</td>\n",
       "      <td>1.000000</td>\n",
       "      <td>2.000000</td>\n",
       "      <td>1.000000</td>\n",
       "      <td>41.000000</td>\n",
       "      <td>6.000000</td>\n",
       "      <td>4.000000</td>\n",
       "      <td>4.000000</td>\n",
       "      <td>5.000000</td>\n",
       "    </tr>\n",
       "    <tr>\n",
       "      <th>max</th>\n",
       "      <td>630000.000000</td>\n",
       "      <td>1.000000</td>\n",
       "      <td>4.000000</td>\n",
       "      <td>2.000000</td>\n",
       "      <td>75.000000</td>\n",
       "      <td>10.000000</td>\n",
       "      <td>5.000000</td>\n",
       "      <td>15.000000</td>\n",
       "      <td>10.000000</td>\n",
       "    </tr>\n",
       "  </tbody>\n",
       "</table>\n",
       "</div>"
      ],
      "text/plain": [
       "           Limit_bal         Sex   Education    Marriage         Age  \\\n",
       "count     652.000000  652.000000  652.000000  652.000000  652.000000   \n",
       "mean   170552.147239    0.423313    1.773006    0.450920   35.085890   \n",
       "std    129739.199740    0.494463    0.735750    0.547904    9.359618   \n",
       "min     10000.000000    0.000000    1.000000    0.000000   21.000000   \n",
       "25%     57500.000000    0.000000    1.000000    0.000000   28.000000   \n",
       "50%    140000.000000    0.000000    2.000000    0.000000   33.000000   \n",
       "75%    240000.000000    1.000000    2.000000    1.000000   41.000000   \n",
       "max    630000.000000    1.000000    4.000000    2.000000   75.000000   \n",
       "\n",
       "       Total_Credit_Cards  Total_visits_bank  Total_visits_online  \\\n",
       "count          652.000000         652.000000           652.000000   \n",
       "mean             4.736196           2.421779             2.590491   \n",
       "std              2.161180           1.629703             2.946961   \n",
       "min              1.000000           0.000000             0.000000   \n",
       "25%              3.000000           1.000000             1.000000   \n",
       "50%              5.000000           2.000000             2.000000   \n",
       "75%              6.000000           4.000000             4.000000   \n",
       "max             10.000000           5.000000            15.000000   \n",
       "\n",
       "       Total_calls_made  \n",
       "count        652.000000  \n",
       "mean           3.541411  \n",
       "std            2.859721  \n",
       "min            0.000000  \n",
       "25%            1.000000  \n",
       "50%            3.000000  \n",
       "75%            5.000000  \n",
       "max           10.000000  "
      ]
     },
     "execution_count": 237,
     "metadata": {},
     "output_type": "execute_result"
    }
   ],
   "source": [
    "# verificamos los rangos\n",
    "df_clients_A.describe()"
   ]
  },
  {
   "cell_type": "markdown",
   "id": "b828633c-c40f-4f4a-8312-688f97d0d35f",
   "metadata": {},
   "source": [
    "## 3. Clasificadores."
   ]
  },
  {
   "cell_type": "code",
   "execution_count": null,
   "id": "6962e252-b090-41b3-a222-df15c7c52d31",
   "metadata": {},
   "outputs": [],
   "source": []
  }
 ],
 "metadata": {
  "kernelspec": {
   "display_name": "Python 3",
   "language": "python",
   "name": "python3"
  },
  "language_info": {
   "codemirror_mode": {
    "name": "ipython",
    "version": 3
   },
   "file_extension": ".py",
   "mimetype": "text/x-python",
   "name": "python",
   "nbconvert_exporter": "python",
   "pygments_lexer": "ipython3",
   "version": "3.8.8"
  }
 },
 "nbformat": 4,
 "nbformat_minor": 5
}
